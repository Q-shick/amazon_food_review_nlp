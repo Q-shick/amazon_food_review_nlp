{
  "nbformat": 4,
  "nbformat_minor": 0,
  "metadata": {
    "colab": {
      "name": "amazon_food_review_nlp.ipynb",
      "version": "0.3.2",
      "provenance": [],
      "collapsed_sections": [],
      "include_colab_link": true
    },
    "kernelspec": {
      "name": "python3",
      "display_name": "Python 3"
    },
    "accelerator": "GPU"
  },
  "cells": [
    {
      "cell_type": "markdown",
      "metadata": {
        "id": "view-in-github",
        "colab_type": "text"
      },
      "source": [
        "<a href=\"https://colab.research.google.com/github/Q-shick/amazon_food_review_nlp/blob/master/amazon_food_review_nlp.ipynb\" target=\"_parent\"><img src=\"https://colab.research.google.com/assets/colab-badge.svg\" alt=\"Open In Colab\"/></a>"
      ]
    },
    {
      "metadata": {
        "id": "RN3h5jCF1RH2",
        "colab_type": "text"
      },
      "cell_type": "markdown",
      "source": [
        "# Food Reviews Analysis\n",
        "### *By Kyoosik Kim*\n",
        "\"Amazon Food Reviews\" is a public dataset gathered from 1999 to 2012. Over 568K reviews are composed with 100 words with a short summary, also a score tagged for each reivew. The scores have five levels, 5 being the highest. Analyzing the text data with scores labeled, we can find trends between the reviews and the consumer experiences, based on which we can also build a model. The advantage of the model is being able to quantify reviews that future consumers would leave through any type of platform. That is, the model should be capable of a scoring system as long as any texts are given because the learning is made through a large amount of words and sentences.\n",
        "\n",
        "<br>\n",
        "\n",
        "The project will start with data setup in SQL format in which we will focus on review and score columns. Before analyzing, we will validate the completeness of the dataset by checking any missing cells, data types, etc. For the first analysis, we will focus on the scores to see how good reviews are distributied and vise versa. This section is mainly examining the groups to find statistical differences. Then, we will carry out topic decompositions using LDA and NMF to get some ideas what the texts are about. Next, we will analyze sentiments of reviews by each score group. Based on the analysis, we will build a baseline model based on 'bag of words' concept. Finally, we will build a sophiscated model such a deep learning model using the Keras framework.\n",
        "<br>\n",
        "\n",
        "1.   Load the Dataset\n",
        "2.   Data Cleansing Check-up\n",
        "3.   Statistical Analysis\n",
        "4.   Topic Analysis\n",
        "5.   Sentiment Analysis\n",
        "6.   Named Entity Recognition\n",
        "7.   Baseline Model\n",
        "8.   Deep Learning Model\n",
        "9.   Model Tuning and Evaluation\n",
        "10. Multiple Input MLP Model\n",
        "11. Conclusion and References\n",
        "\n",
        "*Environment*: Google Colab (Tesla 80K GPU)\n",
        "<br>\n",
        "*Keywords*: "
      ]
    },
    {
      "metadata": {
        "id": "JAedvPMRANd7",
        "colab_type": "text"
      },
      "cell_type": "markdown",
      "source": [
        "## 1. Load Dataset\n",
        "The dataset is stored in *Google Drive* and downloadable via the *PyDrive* API. This is faster than uploading from a local drive and a better way in accessibility and robustness. But it requires an authentification process. The format is *SQLite* in which we can query the data we need such as reviews and scores. We will also query the feature called \"Helpfulness\" which indicates how people agree with each review. There are duplicate products, meaning that one product is most likely to have multiple reviews. The feature helpfulness allows us to filter only useful reviews. In other words, we can leave out reviews that people do not agree with. For example, a product with good reviews overall could have a couple of bad reviews. These bad reviews are likely to have high ratio of disagree over agree such as 1 upvote vs. 10 downvotes. We may utilize this ratio to evaluate each review."
      ]
    },
    {
      "metadata": {
        "id": "gMXYpOzoOfQ8",
        "colab_type": "code",
        "colab": {}
      },
      "cell_type": "code",
      "source": [
        "# Install the PyDrive wrapper & import libraries\n",
        "# This only needs to be done once per notebook\n",
        "!pip install -U -q PyDrive\n",
        "from pydrive.auth import GoogleAuth\n",
        "from pydrive.drive import GoogleDrive\n",
        "from google.colab import auth\n",
        "from oauth2client.client import GoogleCredentials\n",
        "\n",
        "# Authenticate and create the PyDrive client\n",
        "# This only needs to be done once per notebook\n",
        "auth.authenticate_user()\n",
        "gauth = GoogleAuth()\n",
        "gauth.credentials = GoogleCredentials.get_application_default()\n",
        "drive = GoogleDrive(gauth)"
      ],
      "execution_count": 0,
      "outputs": []
    },
    {
      "metadata": {
        "id": "wCMWcVmfOkCe",
        "colab_type": "code",
        "colab": {}
      },
      "cell_type": "code",
      "source": [
        "# Download a file based on its file ID\n",
        "file_id = '1g7jG4xIB1F12hfd2Xw6TD4xaeEs5xr1p'\n",
        "downloaded = drive.CreateFile({'id': file_id})\n",
        "downloaded.GetContentFile('reviews.sqlite')"
      ],
      "execution_count": 0,
      "outputs": []
    },
    {
      "metadata": {
        "id": "U6moj9kzWHZC",
        "colab_type": "code",
        "colab": {}
      },
      "cell_type": "code",
      "source": [
        "# basic libraries\n",
        "import pandas as pd\n",
        "import numpy as np\n",
        "\n",
        "import matplotlib.pyplot as plt\n",
        "%matplotlib inline\n",
        "import seaborn as sns\n",
        "sns.set_style(\"whitegrid\")\n",
        "sns.set_context(\"talk\")\n",
        "sns.set_style(\"ticks\", {\"xtick.major.size\": 8, \"ytick.major.size\": 8})\n",
        "\n",
        "from pprint import pprint\n",
        "import warnings\n",
        "warnings.filterwarnings('ignore')"
      ],
      "execution_count": 0,
      "outputs": []
    },
    {
      "metadata": {
        "id": "mfurChHqLBG9",
        "colab_type": "code",
        "outputId": "d2959ce8-87df-42ca-b605-126d52cdb267",
        "colab": {
          "base_uri": "https://localhost:8080/",
          "height": 34
        }
      },
      "cell_type": "code",
      "source": [
        "# query dataset\n",
        "import sqlite3\n",
        "\n",
        "conn = sqlite3.connect('/content/reviews.sqlite')\n",
        "c = conn.cursor()\n",
        "\n",
        "read_query = \"SELECT HelpfulnessNumerator, HelpfulnessDenominator, \\\n",
        "                     Score, Summary, Text \\\n",
        "              FROM Reviews\"\n",
        "df = pd.read_sql_query(read_query, conn)\n",
        "print(\"Data frame (row x col):\", df.shape)"
      ],
      "execution_count": 4,
      "outputs": [
        {
          "output_type": "stream",
          "text": [
            "Data frame (row x col): (568454, 5)\n"
          ],
          "name": "stdout"
        }
      ]
    },
    {
      "metadata": {
        "id": "m5HL5byse5ME",
        "colab_type": "code",
        "outputId": "108fdfbd-6fa9-41fe-9522-99533fa4cf3e",
        "colab": {
          "base_uri": "https://localhost:8080/",
          "height": 255
        }
      },
      "cell_type": "code",
      "source": [
        "df.head()"
      ],
      "execution_count": 5,
      "outputs": [
        {
          "output_type": "execute_result",
          "data": {
            "text/html": [
              "<div>\n",
              "<style scoped>\n",
              "    .dataframe tbody tr th:only-of-type {\n",
              "        vertical-align: middle;\n",
              "    }\n",
              "\n",
              "    .dataframe tbody tr th {\n",
              "        vertical-align: top;\n",
              "    }\n",
              "\n",
              "    .dataframe thead th {\n",
              "        text-align: right;\n",
              "    }\n",
              "</style>\n",
              "<table border=\"1\" class=\"dataframe\">\n",
              "  <thead>\n",
              "    <tr style=\"text-align: right;\">\n",
              "      <th></th>\n",
              "      <th>HelpfulnessNumerator</th>\n",
              "      <th>HelpfulnessDenominator</th>\n",
              "      <th>Score</th>\n",
              "      <th>Summary</th>\n",
              "      <th>Text</th>\n",
              "    </tr>\n",
              "  </thead>\n",
              "  <tbody>\n",
              "    <tr>\n",
              "      <th>0</th>\n",
              "      <td>1</td>\n",
              "      <td>1</td>\n",
              "      <td>5</td>\n",
              "      <td>Good Quality Dog Food</td>\n",
              "      <td>I have bought several of the Vitality canned d...</td>\n",
              "    </tr>\n",
              "    <tr>\n",
              "      <th>1</th>\n",
              "      <td>0</td>\n",
              "      <td>0</td>\n",
              "      <td>1</td>\n",
              "      <td>Not as Advertised</td>\n",
              "      <td>Product arrived labeled as Jumbo Salted Peanut...</td>\n",
              "    </tr>\n",
              "    <tr>\n",
              "      <th>2</th>\n",
              "      <td>1</td>\n",
              "      <td>1</td>\n",
              "      <td>4</td>\n",
              "      <td>\"Delight\" says it all</td>\n",
              "      <td>This is a confection that has been around a fe...</td>\n",
              "    </tr>\n",
              "    <tr>\n",
              "      <th>3</th>\n",
              "      <td>3</td>\n",
              "      <td>3</td>\n",
              "      <td>2</td>\n",
              "      <td>Cough Medicine</td>\n",
              "      <td>If you are looking for the secret ingredient i...</td>\n",
              "    </tr>\n",
              "    <tr>\n",
              "      <th>4</th>\n",
              "      <td>0</td>\n",
              "      <td>0</td>\n",
              "      <td>5</td>\n",
              "      <td>Great taffy</td>\n",
              "      <td>Great taffy at a great price.  There was a wid...</td>\n",
              "    </tr>\n",
              "  </tbody>\n",
              "</table>\n",
              "</div>"
            ],
            "text/plain": [
              "   HelpfulnessNumerator  HelpfulnessDenominator  Score                Summary  \\\n",
              "0                     1                       1      5  Good Quality Dog Food   \n",
              "1                     0                       0      1      Not as Advertised   \n",
              "2                     1                       1      4  \"Delight\" says it all   \n",
              "3                     3                       3      2         Cough Medicine   \n",
              "4                     0                       0      5            Great taffy   \n",
              "\n",
              "                                                Text  \n",
              "0  I have bought several of the Vitality canned d...  \n",
              "1  Product arrived labeled as Jumbo Salted Peanut...  \n",
              "2  This is a confection that has been around a fe...  \n",
              "3  If you are looking for the secret ingredient i...  \n",
              "4  Great taffy at a great price.  There was a wid...  "
            ]
          },
          "metadata": {
            "tags": []
          },
          "execution_count": 5
        }
      ]
    },
    {
      "metadata": {
        "id": "Mkmmcwyzk_nP",
        "colab_type": "text"
      },
      "cell_type": "markdown",
      "source": [
        "As explained, \"Helpfulness Numerator\" is how may users agreed with the review (upvote) while \"Helpfulness Denominator\" is how many users responded (total). Then, the difference between the two becomes how many users disagreed (downvote). We now can set a rule to eliminate reviews of which the downvote ratio is equal to or above 50%."
      ]
    },
    {
      "metadata": {
        "id": "qPkziferDQgJ",
        "colab_type": "code",
        "outputId": "40605c2b-8cf6-47c5-94c9-0a368d571ffe",
        "colab": {
          "base_uri": "https://localhost:8080/",
          "height": 51
        }
      },
      "cell_type": "code",
      "source": [
        "helpful = ['HelpfulnessNumerator', 'HelpfulnessDenominator']\n",
        "\n",
        "# helpful votes must be smaller than total\n",
        "df = df[ df[helpful[0]] <= df[helpful[1]] ]\n",
        "\n",
        "unreliable_reviews = []\n",
        "for i, num, deno in df[helpful].itertuples():\n",
        "  if deno != 0:\n",
        "    if (deno-num)/deno >= 0.5:\n",
        "      unreliable_reviews.append(i)\n",
        "\n",
        "df.drop(index=unreliable_reviews, inplace=True)\n",
        "# df.drop(columns=helpful, inplace=True)\n",
        "df.reset_index(drop=True, inplace=True)\n",
        "\n",
        "print(\"Unreliable reviews (50% or above downvoted):\", len(unreliable_reviews))\n",
        "print(\"Data frame (row x col):\", df.shape)"
      ],
      "execution_count": 6,
      "outputs": [
        {
          "output_type": "stream",
          "text": [
            "Unreliable reviews (50% or above downvoted): 71736\n",
            "Data frame (row x col): (496716, 5)\n"
          ],
          "name": "stdout"
        }
      ]
    },
    {
      "metadata": {
        "id": "8Orx9kN6AkQz",
        "colab_type": "text"
      },
      "cell_type": "markdown",
      "source": [
        "## 2. Data Cleansing Check-up\n",
        "Text data is tricky in that the way a computer understands is different from the way we do. A blank is a perfect example. When there is only a space, we don't see anything but a computer still accepts it as a character. Also, there could be some format issues like *HTML* as the reviews were extracted from a website. Although the dataset is thought to be processed to some degree, it would be still a good idea to make sure of the issues aforementioned."
      ]
    },
    {
      "metadata": {
        "id": "b0lgK0hAfqzJ",
        "colab_type": "code",
        "outputId": "fe93a726-15e2-403c-bc2f-bf0b54930a71",
        "colab": {
          "base_uri": "https://localhost:8080/",
          "height": 119
        }
      },
      "cell_type": "code",
      "source": [
        "df.isnull().sum()"
      ],
      "execution_count": 7,
      "outputs": [
        {
          "output_type": "execute_result",
          "data": {
            "text/plain": [
              "HelpfulnessNumerator      0\n",
              "HelpfulnessDenominator    0\n",
              "Score                     0\n",
              "Summary                   0\n",
              "Text                      0\n",
              "dtype: int64"
            ]
          },
          "metadata": {
            "tags": []
          },
          "execution_count": 7
        }
      ]
    },
    {
      "metadata": {
        "id": "RYdyVb7WgAy-",
        "colab_type": "code",
        "outputId": "3dc1bd4e-d914-4c40-c640-cf1a3d61a05a",
        "colab": {
          "base_uri": "https://localhost:8080/",
          "height": 51
        }
      },
      "cell_type": "code",
      "source": [
        "non_str = []\n",
        "space_str = []\n",
        "\n",
        "for i, smry, text in df[['Summary', 'Text']].itertuples():\n",
        "  if not (type(smry)==str and type(text)==str):\n",
        "    non_str.append(i)\n",
        "  else:\n",
        "    if (smry.isspace() or text.isspace()):\n",
        "      space_str.append(i)\n",
        "        \n",
        "print(\"Non String:\", non_str, \"\\nBlank:\", space_str)"
      ],
      "execution_count": 8,
      "outputs": [
        {
          "output_type": "stream",
          "text": [
            "Non String: [] \n",
            "Blank: []\n"
          ],
          "name": "stdout"
        }
      ]
    },
    {
      "metadata": {
        "id": "-f0COM0aZceU",
        "colab_type": "text"
      },
      "cell_type": "markdown",
      "source": [
        "Now that we have confirmed there isn't any null or blank, we can safely read some random sentences. However, there is a lurking problem in some sentences like below that there are *HTML* tags. As mentioned, these are data that users typed on a website environment. This can be handled with *BeautifulSoup* library which is capable of recognizing the tags. We will remove all the tags to extract only texts."
      ]
    },
    {
      "metadata": {
        "colab_type": "code",
        "id": "_VMPw6eV5BUd",
        "outputId": "43a22b07-bdf3-47d3-9540-a76491b45941",
        "colab": {
          "base_uri": "https://localhost:8080/",
          "height": 54
        }
      },
      "cell_type": "code",
      "source": [
        "print(df.iloc[21280]['Text'])"
      ],
      "execution_count": 9,
      "outputs": [
        {
          "output_type": "stream",
          "text": [
            "CAUTION...DO NOT use ice cubes in any Zevia soda.<br />I am hooked on Zevia sodas because their tastes are not \"heavy.\" Each flavored soda seems to have just the right amount of taste. Once you add ice, the taste seems to get watered down.<br />Zevia is my new soda of choice.\n"
          ],
          "name": "stdout"
        }
      ]
    },
    {
      "metadata": {
        "id": "Cn_CzAnMstOj",
        "colab_type": "code",
        "outputId": "71263847-bb4b-4191-8f8e-bb3ef1998199",
        "colab": {
          "base_uri": "https://localhost:8080/",
          "height": 88
        }
      },
      "cell_type": "code",
      "source": [
        "%%time\n",
        "\n",
        "from bs4 import BeautifulSoup\n",
        "\n",
        "df['Text'] = df['Text'].apply(lambda x: BeautifulSoup(x).get_text())\n",
        "print(df.iloc[21280]['Text'])"
      ],
      "execution_count": 10,
      "outputs": [
        {
          "output_type": "stream",
          "text": [
            "CAUTION...DO NOT use ice cubes in any Zevia soda.I am hooked on Zevia sodas because their tastes are not \"heavy.\" Each flavored soda seems to have just the right amount of taste. Once you add ice, the taste seems to get watered down.Zevia is my new soda of choice.\n",
            "CPU times: user 2min 21s, sys: 4.09 s, total: 2min 25s\n",
            "Wall time: 2min 26s\n"
          ],
          "name": "stdout"
        }
      ]
    },
    {
      "metadata": {
        "id": "yNMYFtwwj10f",
        "colab_type": "code",
        "outputId": "4580de4c-a18b-4f04-8ec9-97f42ed83e0b",
        "colab": {
          "base_uri": "https://localhost:8080/",
          "height": 422
        }
      },
      "cell_type": "code",
      "source": [
        "plt.figure(figsize=(8,6))\n",
        "plt.bar(np.arange(1,6), np.bincount(df['Score'])[1:])\n",
        "plt.title(\"Reviews by Score\")\n",
        "plt.xlabel(\"Score\")\n",
        "plt.show()"
      ],
      "execution_count": 11,
      "outputs": [
        {
          "output_type": "display_data",
          "data": {
            "image/png": "[encoded data removed]",
            "text/plain": [
              "<Figure size 576x432 with 1 Axes>"
            ]
          },
          "metadata": {
            "tags": []
          }
        }
      ]
    },
    {
      "metadata": {
        "id": "2ZF1IZODoDoR",
        "colab_type": "text"
      },
      "cell_type": "markdown",
      "source": [
        "The distribution of the score 1~5 is quite skewed. Obviously, the users were satisfied by giving mostly 5 for the score. What to remember here is that our goal is to investigate how reviews are linked with scores. This means that the Amazon reviews may look like the plot above but not necessarily somewhere else. Namely, our goal is to investigate general patterns of food reviews. Thus, we will draw samples equally from each score group for analysis and eventually for modeling as well."
      ]
    },
    {
      "metadata": {
        "id": "hiDmljksA6QP",
        "colab_type": "text"
      },
      "cell_type": "markdown",
      "source": [
        "## 3. Statistical Analysis\n",
        "First, we want to ensure whether the score groups are significantly different from each other. Because our main focus is the review feature, we can apply statistical methods to some characteristics of the feature such as word count or even a sophisticated property like *part-of-speech*. This will be done with help of the NLP library *spacy* which handles text data as documents that can be tokenized and decomposed thoroughly."
      ]
    },
    {
      "metadata": {
        "id": "_6oZ2G_Als-m",
        "colab_type": "code",
        "outputId": "0bf04ab0-3fb1-4f8e-cd24-bce837872f71",
        "colab": {
          "base_uri": "https://localhost:8080/",
          "height": 258
        }
      },
      "cell_type": "code",
      "source": [
        "import spacy\n",
        "!python -m spacy download en_core_web_lg # if not installed\n",
        "nlp = spacy.load('en_core_web_lg') # about 850 MB\n",
        "from spacy import displacy"
      ],
      "execution_count": 12,
      "outputs": [
        {
          "output_type": "stream",
          "text": [
            "Collecting en_core_web_lg==2.0.0 from https://github.com/explosion/spacy-models/releases/download/en_core_web_lg-2.0.0/en_core_web_lg-2.0.0.tar.gz#egg=en_core_web_lg==2.0.0\n",
            "\u001b[?25l  Downloading https://github.com/explosion/spacy-models/releases/download/en_core_web_lg-2.0.0/en_core_web_lg-2.0.0.tar.gz (852.3MB)\n",
            "\u001b[K    100% |████████████████████████████████| 852.3MB 30.3MB/s \n",
            "\u001b[?25hInstalling collected packages: en-core-web-lg\n",
            "  Running setup.py install for en-core-web-lg ... \u001b[?25ldone\n",
            "\u001b[?25hSuccessfully installed en-core-web-lg-2.0.0\n",
            "\n",
            "\u001b[93m    Linking successful\u001b[0m\n",
            "    /usr/local/lib/python3.6/dist-packages/en_core_web_lg -->\n",
            "    /usr/local/lib/python3.6/dist-packages/spacy/data/en_core_web_lg\n",
            "\n",
            "    You can now load the model via spacy.load('en_core_web_lg')\n",
            "\n"
          ],
          "name": "stdout"
        }
      ]
    },
    {
      "metadata": {
        "id": "O-ijJmq0r0oz",
        "colab_type": "code",
        "colab": {}
      },
      "cell_type": "code",
      "source": [
        "np.random.seed(2019)\n",
        "\n",
        "\"\"\"\n",
        "Pool equal 'n' samples by group without replacement\n",
        "Return indice of samples\n",
        "\"\"\"\n",
        "def random_pooling(df, sample_len, classes=np.arange(1,6)):\n",
        "  scores = [np.random.choice(df[df['Score']==x].index, sample_len, replace=False)\n",
        "            for x in classes]\n",
        "  \n",
        "  return np.array(scores)"
      ],
      "execution_count": 0,
      "outputs": []
    },
    {
      "metadata": {
        "id": "vlXV7XtC1VCx",
        "colab_type": "code",
        "outputId": "39dacc01-9c66-471a-be12-347b9c455618",
        "colab": {
          "base_uri": "https://localhost:8080/",
          "height": 1249
        }
      },
      "cell_type": "code",
      "source": [
        "scores = random_pooling(df, 400)\n",
        "\n",
        "example_reviews = df.head(0)\n",
        "for i in range(5):\n",
        "  example_reviews = pd.concat([example_reviews, df.iloc[scores[i]][:5]])\n",
        "  \n",
        "example_reviews"
      ],
      "execution_count": 14,
      "outputs": [
        {
          "output_type": "execute_result",
          "data": {
            "text/html": [
              "<div>\n",
              "<style scoped>\n",
              "    .dataframe tbody tr th:only-of-type {\n",
              "        vertical-align: middle;\n",
              "    }\n",
              "\n",
              "    .dataframe tbody tr th {\n",
              "        vertical-align: top;\n",
              "    }\n",
              "\n",
              "    .dataframe thead th {\n",
              "        text-align: right;\n",
              "    }\n",
              "</style>\n",
              "<table border=\"1\" class=\"dataframe\">\n",
              "  <thead>\n",
              "    <tr style=\"text-align: right;\">\n",
              "      <th></th>\n",
              "      <th>HelpfulnessNumerator</th>\n",
              "      <th>HelpfulnessDenominator</th>\n",
              "      <th>Score</th>\n",
              "      <th>Summary</th>\n",
              "      <th>Text</th>\n",
              "    </tr>\n",
              "  </thead>\n",
              "  <tbody>\n",
              "    <tr>\n",
              "      <th>153349</th>\n",
              "      <td>10</td>\n",
              "      <td>11</td>\n",
              "      <td>1</td>\n",
              "      <td>Mostly overpriced filler, little tenderizer</td>\n",
              "      <td>Very little tenderizer in the tenderizer.Read ...</td>\n",
              "    </tr>\n",
              "    <tr>\n",
              "      <th>417638</th>\n",
              "      <td>1</td>\n",
              "      <td>1</td>\n",
              "      <td>1</td>\n",
              "      <td>DO NOT BUY THESE - THEY CAN KILL YOUR PET</td>\n",
              "      <td>Absolutely DO NOT BUY these bones! I bought a ...</td>\n",
              "    </tr>\n",
              "    <tr>\n",
              "      <th>369476</th>\n",
              "      <td>7</td>\n",
              "      <td>8</td>\n",
              "      <td>1</td>\n",
              "      <td>Made in China</td>\n",
              "      <td>Why gamble with your dog's health? These are m...</td>\n",
              "    </tr>\n",
              "    <tr>\n",
              "      <th>466084</th>\n",
              "      <td>4</td>\n",
              "      <td>4</td>\n",
              "      <td>1</td>\n",
              "      <td>Disappointing</td>\n",
              "      <td>I was very happy with the just strawberries, a...</td>\n",
              "    </tr>\n",
              "    <tr>\n",
              "      <th>86390</th>\n",
              "      <td>1</td>\n",
              "      <td>1</td>\n",
              "      <td>1</td>\n",
              "      <td>Product has changed for the worse over the pas...</td>\n",
              "      <td>I have been buying Blue Dog Bakery, Peanut But...</td>\n",
              "    </tr>\n",
              "    <tr>\n",
              "      <th>366331</th>\n",
              "      <td>0</td>\n",
              "      <td>0</td>\n",
              "      <td>2</td>\n",
              "      <td>not impressed</td>\n",
              "      <td>Have to say that I dont get much effect out of...</td>\n",
              "    </tr>\n",
              "    <tr>\n",
              "      <th>17482</th>\n",
              "      <td>1</td>\n",
              "      <td>1</td>\n",
              "      <td>2</td>\n",
              "      <td>Too sweet</td>\n",
              "      <td>I made this this past weekend and I am not a f...</td>\n",
              "    </tr>\n",
              "    <tr>\n",
              "      <th>312549</th>\n",
              "      <td>0</td>\n",
              "      <td>0</td>\n",
              "      <td>2</td>\n",
              "      <td>Not the type grandma made</td>\n",
              "      <td>This would be better called by pickles, since ...</td>\n",
              "    </tr>\n",
              "    <tr>\n",
              "      <th>403563</th>\n",
              "      <td>2</td>\n",
              "      <td>2</td>\n",
              "      <td>2</td>\n",
              "      <td>Dented cans, tinny taste</td>\n",
              "      <td>I bought a case of both the Native Forest Orga...</td>\n",
              "    </tr>\n",
              "    <tr>\n",
              "      <th>454300</th>\n",
              "      <td>0</td>\n",
              "      <td>0</td>\n",
              "      <td>2</td>\n",
              "      <td>Way too salty to enjoy</td>\n",
              "      <td>Having had plantain chips before, I knew them ...</td>\n",
              "    </tr>\n",
              "    <tr>\n",
              "      <th>82932</th>\n",
              "      <td>0</td>\n",
              "      <td>0</td>\n",
              "      <td>3</td>\n",
              "      <td>these are OK</td>\n",
              "      <td>These bars are just Ok.They are smaller than t...</td>\n",
              "    </tr>\n",
              "    <tr>\n",
              "      <th>317079</th>\n",
              "      <td>0</td>\n",
              "      <td>0</td>\n",
              "      <td>3</td>\n",
              "      <td>plate cracked on first use :-(</td>\n",
              "      <td>Okay bacon cooked great;however, the cooking t...</td>\n",
              "    </tr>\n",
              "    <tr>\n",
              "      <th>253712</th>\n",
              "      <td>0</td>\n",
              "      <td>0</td>\n",
              "      <td>3</td>\n",
              "      <td>Exploding K-Cups</td>\n",
              "      <td>My wife is a huge fan of the Kahlua K-Cups.  T...</td>\n",
              "    </tr>\n",
              "    <tr>\n",
              "      <th>483582</th>\n",
              "      <td>6</td>\n",
              "      <td>7</td>\n",
              "      <td>3</td>\n",
              "      <td>Stevia Tabs.</td>\n",
              "      <td>While this product does sweeten beverages as p...</td>\n",
              "    </tr>\n",
              "    <tr>\n",
              "      <th>169671</th>\n",
              "      <td>1</td>\n",
              "      <td>1</td>\n",
              "      <td>3</td>\n",
              "      <td>\"Malossol\"?</td>\n",
              "      <td>Guys, do you know what \"malossol\" means in Rus...</td>\n",
              "    </tr>\n",
              "    <tr>\n",
              "      <th>384996</th>\n",
              "      <td>0</td>\n",
              "      <td>0</td>\n",
              "      <td>4</td>\n",
              "      <td>Re-Rating</td>\n",
              "      <td>Okay, I jumped the gun, because they were send...</td>\n",
              "    </tr>\n",
              "    <tr>\n",
              "      <th>177508</th>\n",
              "      <td>1</td>\n",
              "      <td>1</td>\n",
              "      <td>4</td>\n",
              "      <td>Best dog food ever!</td>\n",
              "      <td>I know my review is a little out dated from it...</td>\n",
              "    </tr>\n",
              "    <tr>\n",
              "      <th>42417</th>\n",
              "      <td>0</td>\n",
              "      <td>0</td>\n",
              "      <td>4</td>\n",
              "      <td>Yum!</td>\n",
              "      <td>These bars are so delicious! I really recommen...</td>\n",
              "    </tr>\n",
              "    <tr>\n",
              "      <th>432554</th>\n",
              "      <td>1</td>\n",
              "      <td>1</td>\n",
              "      <td>4</td>\n",
              "      <td>PUFFFFFS</td>\n",
              "      <td>This stuff is grrrrrrrrrrrrrrreaaaaaaaaaat!  I...</td>\n",
              "    </tr>\n",
              "    <tr>\n",
              "      <th>206070</th>\n",
              "      <td>0</td>\n",
              "      <td>0</td>\n",
              "      <td>4</td>\n",
              "      <td>so good iced</td>\n",
              "      <td>This was one of the first K-Cup blends I tried...</td>\n",
              "    </tr>\n",
              "    <tr>\n",
              "      <th>422036</th>\n",
              "      <td>1</td>\n",
              "      <td>1</td>\n",
              "      <td>5</td>\n",
              "      <td>Three Crazy Cats Agree~</td>\n",
              "      <td>All three of my cats go crazy for these wilder...</td>\n",
              "    </tr>\n",
              "    <tr>\n",
              "      <th>256995</th>\n",
              "      <td>0</td>\n",
              "      <td>0</td>\n",
              "      <td>5</td>\n",
              "      <td>Another great flavor</td>\n",
              "      <td>So glad to find these. My daughter is doctoral...</td>\n",
              "    </tr>\n",
              "    <tr>\n",
              "      <th>242950</th>\n",
              "      <td>3</td>\n",
              "      <td>3</td>\n",
              "      <td>5</td>\n",
              "      <td>Delicious and rich in hazelnut!</td>\n",
              "      <td>The quality of the chocolate is fantastic. It'...</td>\n",
              "    </tr>\n",
              "    <tr>\n",
              "      <th>168609</th>\n",
              "      <td>5</td>\n",
              "      <td>5</td>\n",
              "      <td>5</td>\n",
              "      <td>Sera's favorite!</td>\n",
              "      <td>Believe it or not, my great dane can be a real...</td>\n",
              "    </tr>\n",
              "    <tr>\n",
              "      <th>353219</th>\n",
              "      <td>2</td>\n",
              "      <td>2</td>\n",
              "      <td>5</td>\n",
              "      <td>Outstanding!!</td>\n",
              "      <td>These are the BEST!!! Linzer Cookies I've ever...</td>\n",
              "    </tr>\n",
              "  </tbody>\n",
              "</table>\n",
              "</div>"
            ],
            "text/plain": [
              "        HelpfulnessNumerator  HelpfulnessDenominator  Score  \\\n",
              "153349                    10                      11      1   \n",
              "417638                     1                       1      1   \n",
              "369476                     7                       8      1   \n",
              "466084                     4                       4      1   \n",
              "86390                      1                       1      1   \n",
              "366331                     0                       0      2   \n",
              "17482                      1                       1      2   \n",
              "312549                     0                       0      2   \n",
              "403563                     2                       2      2   \n",
              "454300                     0                       0      2   \n",
              "82932                      0                       0      3   \n",
              "317079                     0                       0      3   \n",
              "253712                     0                       0      3   \n",
              "483582                     6                       7      3   \n",
              "169671                     1                       1      3   \n",
              "384996                     0                       0      4   \n",
              "177508                     1                       1      4   \n",
              "42417                      0                       0      4   \n",
              "432554                     1                       1      4   \n",
              "206070                     0                       0      4   \n",
              "422036                     1                       1      5   \n",
              "256995                     0                       0      5   \n",
              "242950                     3                       3      5   \n",
              "168609                     5                       5      5   \n",
              "353219                     2                       2      5   \n",
              "\n",
              "                                                  Summary  \\\n",
              "153349        Mostly overpriced filler, little tenderizer   \n",
              "417638          DO NOT BUY THESE - THEY CAN KILL YOUR PET   \n",
              "369476                                      Made in China   \n",
              "466084                                      Disappointing   \n",
              "86390   Product has changed for the worse over the pas...   \n",
              "366331                                      not impressed   \n",
              "17482                                           Too sweet   \n",
              "312549                          Not the type grandma made   \n",
              "403563                           Dented cans, tinny taste   \n",
              "454300                             Way too salty to enjoy   \n",
              "82932                                        these are OK   \n",
              "317079                     plate cracked on first use :-(   \n",
              "253712                                   Exploding K-Cups   \n",
              "483582                                       Stevia Tabs.   \n",
              "169671                                        \"Malossol\"?   \n",
              "384996                                          Re-Rating   \n",
              "177508                                Best dog food ever!   \n",
              "42417                                                Yum!   \n",
              "432554                                           PUFFFFFS   \n",
              "206070                                       so good iced   \n",
              "422036                            Three Crazy Cats Agree~   \n",
              "256995                               Another great flavor   \n",
              "242950                    Delicious and rich in hazelnut!   \n",
              "168609                                   Sera's favorite!   \n",
              "353219                                      Outstanding!!   \n",
              "\n",
              "                                                     Text  \n",
              "153349  Very little tenderizer in the tenderizer.Read ...  \n",
              "417638  Absolutely DO NOT BUY these bones! I bought a ...  \n",
              "369476  Why gamble with your dog's health? These are m...  \n",
              "466084  I was very happy with the just strawberries, a...  \n",
              "86390   I have been buying Blue Dog Bakery, Peanut But...  \n",
              "366331  Have to say that I dont get much effect out of...  \n",
              "17482   I made this this past weekend and I am not a f...  \n",
              "312549  This would be better called by pickles, since ...  \n",
              "403563  I bought a case of both the Native Forest Orga...  \n",
              "454300  Having had plantain chips before, I knew them ...  \n",
              "82932   These bars are just Ok.They are smaller than t...  \n",
              "317079  Okay bacon cooked great;however, the cooking t...  \n",
              "253712  My wife is a huge fan of the Kahlua K-Cups.  T...  \n",
              "483582  While this product does sweeten beverages as p...  \n",
              "169671  Guys, do you know what \"malossol\" means in Rus...  \n",
              "384996  Okay, I jumped the gun, because they were send...  \n",
              "177508  I know my review is a little out dated from it...  \n",
              "42417   These bars are so delicious! I really recommen...  \n",
              "432554  This stuff is grrrrrrrrrrrrrrreaaaaaaaaaat!  I...  \n",
              "206070  This was one of the first K-Cup blends I tried...  \n",
              "422036  All three of my cats go crazy for these wilder...  \n",
              "256995  So glad to find these. My daughter is doctoral...  \n",
              "242950  The quality of the chocolate is fantastic. It'...  \n",
              "168609  Believe it or not, my great dane can be a real...  \n",
              "353219  These are the BEST!!! Linzer Cookies I've ever...  "
            ]
          },
          "metadata": {
            "tags": []
          },
          "execution_count": 14
        }
      ]
    },
    {
      "metadata": {
        "id": "ZiTcH1Zhb14K",
        "colab_type": "text"
      },
      "cell_type": "markdown",
      "source": [
        "From both the summary and review, we can easily figure out how these are matched to the scores. But there could be some reviews which signals the opposite to the NLP process. Especially, reviews with lower scores might have positive words like 'Good', 'Like', 'Great', but these could be simply sarcasm. We will look into this issue later in the sentiment analysis section."
      ]
    },
    {
      "metadata": {
        "id": "kHLAJPMOl3tb",
        "colab_type": "code",
        "outputId": "9975e006-7006-49e2-f415-815d87a598b3",
        "colab": {
          "base_uri": "https://localhost:8080/",
          "height": 51
        }
      },
      "cell_type": "code",
      "source": [
        "\"\"\"\n",
        "Count adjetive and adverb\n",
        "Scale them to per 100 words\n",
        "Return a list of lists by score group)\n",
        "\"\"\"\n",
        "def expressiveness(i):\n",
        "  adj_adv = []\n",
        "  tokens = []\n",
        "  \n",
        "  for sentence in df.iloc[scores[i]]['Text']:\n",
        "    doc = nlp(sentence)\n",
        "    expr_count = 0\n",
        "    for token in doc:\n",
        "      if token.pos_=='ADJ' or token.pos_=='ADV':\n",
        "        expr_count += 1\n",
        "    # adjective and adverb per 100 words\n",
        "    adj_adv.append(expr_count*100/len(doc))\n",
        "    tokens.append(len(doc))\n",
        "    \n",
        "  return np.array(adj_adv), np.array(tokens)\n",
        "  \n",
        "%time expr_scores = [expressiveness(x) for x in range(5)]"
      ],
      "execution_count": 15,
      "outputs": [
        {
          "output_type": "stream",
          "text": [
            "CPU times: user 2min 23s, sys: 51.1 s, total: 3min 15s\n",
            "Wall time: 1min 43s\n"
          ],
          "name": "stdout"
        }
      ]
    },
    {
      "metadata": {
        "id": "G17C3Ptg7LNr",
        "colab_type": "code",
        "outputId": "166de92a-7c17-44ae-91b1-d98ede6976e8",
        "colab": {
          "base_uri": "https://localhost:8080/",
          "height": 204
        }
      },
      "cell_type": "code",
      "source": [
        "adj_adv_average = [round(adj_adv[0].mean(), 1) for adj_adv in expr_scores]\n",
        "length_average = [round(adj_adv[1].mean(), 1) for adj_adv in expr_scores]\n",
        "\n",
        "pd.DataFrame({'ADJ/ADV_per_100': adj_adv_average,\n",
        "              'Sentence_Length': length_average}, index=np.arange(1,6))"
      ],
      "execution_count": 16,
      "outputs": [
        {
          "output_type": "execute_result",
          "data": {
            "text/html": [
              "<div>\n",
              "<style scoped>\n",
              "    .dataframe tbody tr th:only-of-type {\n",
              "        vertical-align: middle;\n",
              "    }\n",
              "\n",
              "    .dataframe tbody tr th {\n",
              "        vertical-align: top;\n",
              "    }\n",
              "\n",
              "    .dataframe thead th {\n",
              "        text-align: right;\n",
              "    }\n",
              "</style>\n",
              "<table border=\"1\" class=\"dataframe\">\n",
              "  <thead>\n",
              "    <tr style=\"text-align: right;\">\n",
              "      <th></th>\n",
              "      <th>ADJ/ADV_per_100</th>\n",
              "      <th>Sentence_Length</th>\n",
              "    </tr>\n",
              "  </thead>\n",
              "  <tbody>\n",
              "    <tr>\n",
              "      <th>1</th>\n",
              "      <td>16.9</td>\n",
              "      <td>102.9</td>\n",
              "    </tr>\n",
              "    <tr>\n",
              "      <th>2</th>\n",
              "      <td>18.0</td>\n",
              "      <td>101.7</td>\n",
              "    </tr>\n",
              "    <tr>\n",
              "      <th>3</th>\n",
              "      <td>18.5</td>\n",
              "      <td>117.0</td>\n",
              "    </tr>\n",
              "    <tr>\n",
              "      <th>4</th>\n",
              "      <td>18.1</td>\n",
              "      <td>106.1</td>\n",
              "    </tr>\n",
              "    <tr>\n",
              "      <th>5</th>\n",
              "      <td>18.2</td>\n",
              "      <td>83.4</td>\n",
              "    </tr>\n",
              "  </tbody>\n",
              "</table>\n",
              "</div>"
            ],
            "text/plain": [
              "   ADJ/ADV_per_100  Sentence_Length\n",
              "1             16.9            102.9\n",
              "2             18.0            101.7\n",
              "3             18.5            117.0\n",
              "4             18.1            106.1\n",
              "5             18.2             83.4"
            ]
          },
          "metadata": {
            "tags": []
          },
          "execution_count": 16
        }
      ]
    },
    {
      "metadata": {
        "id": "FsEWsApWtnum",
        "colab_type": "text"
      },
      "cell_type": "markdown",
      "source": [
        "It is quite clear that users with score 1 and 2 didn't use as many adjectives and adverbs as the others. But they wrote as long sentences as the other except for the score 5. It is interesting that users with score 5 used many adjectives and adverbs but wrote the shortest. Another to note is that users with score 3 were most expressive as well as most lengthy. They were neutrally satisfied and seemingly tried to give some practical feedbacks, not just describing their feelings, as we briefly saw above."
      ]
    },
    {
      "metadata": {
        "id": "sd7sNsSky_e8",
        "colab_type": "code",
        "outputId": "064f9839-1378-4497-b7ee-99cf17ca44c7",
        "colab": {
          "base_uri": "https://localhost:8080/",
          "height": 404
        }
      },
      "cell_type": "code",
      "source": [
        "plt.figure(figsize=(10,6))\n",
        "\n",
        "colors = ['red', 'blue', 'green', 'purple', 'yellow']\n",
        "labels=['score 1', 'score 2', 'score 3', 'score 4', 'score 5']\n",
        "for i in range(5):\n",
        "  sns.kdeplot(expr_scores[i][0], color=colors[i], label=labels[i])\n",
        "  sns.rugplot(expr_scores[i][0])\n",
        "\n",
        "plt.title(\"Adjective and Adverb per 10 Words\")\n",
        "plt.xlim(-5, 45)\n",
        "plt.legend()\n",
        "plt.show()"
      ],
      "execution_count": 17,
      "outputs": [
        {
          "output_type": "display_data",
          "data": {
            "image/png": "[encoded data removed]",
            "text/plain": [
              "<Figure size 720x432 with 1 Axes>"
            ]
          },
          "metadata": {
            "tags": []
          }
        }
      ]
    },
    {
      "metadata": {
        "id": "SDCFm1up6OpI",
        "colab_type": "code",
        "outputId": "6fbd59b6-e7b9-4a04-b479-1760f4a2f4d3",
        "colab": {
          "base_uri": "https://localhost:8080/",
          "height": 136
        }
      },
      "cell_type": "code",
      "source": [
        "import scipy.stats as stats\n",
        "\n",
        "print(\"Shapiro's Normality Test\\n\")\n",
        "for i in range(5):\n",
        "  _, p = stats.shapiro(expr_scores[i][0])\n",
        "  print(\"- Score {}'s P-value: {:.3f}\".format(i+1, p))"
      ],
      "execution_count": 18,
      "outputs": [
        {
          "output_type": "stream",
          "text": [
            "Shapiro's Normality Test\n",
            "\n",
            "- Score 1's P-value: 0.032\n",
            "- Score 2's P-value: 0.000\n",
            "- Score 3's P-value: 0.000\n",
            "- Score 4's P-value: 0.000\n",
            "- Score 5's P-value: 0.002\n"
          ],
          "name": "stdout"
        }
      ]
    },
    {
      "metadata": {
        "id": "GfX0HGZqvKlz",
        "colab_type": "text"
      },
      "cell_type": "markdown",
      "source": [
        "The 5 groups all look like a bell shape, but we still want to make sure of normality by using *Shapiro's Test*. According to the test, they are all normal, letting us conduct another statistical test *ANOVA*. As seen below, the ANOVA test shows that only the score 1 is different from the rest in how many adjectives and adverbs are used. Indeed, the score 1 (red) on the plot is slightly on the left."
      ]
    },
    {
      "metadata": {
        "id": "4JqWP_9dlswb",
        "colab_type": "code",
        "outputId": "2e1f24c1-aa76-4d16-802b-55b535dc9fe5",
        "colab": {
          "base_uri": "https://localhost:8080/",
          "height": 85
        }
      },
      "cell_type": "code",
      "source": [
        "print(\"ANOVA Test between Scores\\n\")\n",
        "print(\"- Score 1 vs 2: \", stats.kruskal(expr_scores[0][0],\n",
        "                                       expr_scores[1][0]).pvalue.round(3))\n",
        "print(\"- Score 2 vs 3 vs 4 vs 5: \", stats.kruskal(expr_scores[1][0],\n",
        "                                       expr_scores[2][0],\n",
        "                                       expr_scores[3][0],\n",
        "                                       expr_scores[4][0]).pvalue.round(3))"
      ],
      "execution_count": 19,
      "outputs": [
        {
          "output_type": "stream",
          "text": [
            "ANOVA Test between Scores\n",
            "\n",
            "- Score 1 vs 2:  0.004\n",
            "- Score 2 vs 3 vs 4 vs 5:  0.806\n"
          ],
          "name": "stdout"
        }
      ]
    },
    {
      "metadata": {
        "id": "4A5LU7QQ3j9N",
        "colab_type": "code",
        "outputId": "a0547f6e-f061-4496-b4c3-b97cc6bf8e0f",
        "colab": {
          "base_uri": "https://localhost:8080/",
          "height": 404
        }
      },
      "cell_type": "code",
      "source": [
        "plt.figure(figsize=(10,6))\n",
        "\n",
        "colors = ['red', 'blue', 'green', 'purple', 'yellow']\n",
        "labels=['score 1', 'score 2', 'score 3', 'score 4', 'score 5']\n",
        "for i in range(5):\n",
        "  sns.kdeplot(expr_scores[i][1], color=colors[i], label=labels[i])\n",
        "  sns.rugplot(expr_scores[i][1])\n",
        "\n",
        "plt.title(\"Review Word Count\")\n",
        "plt.xlim(-5, 1000)\n",
        "plt.legend()\n",
        "plt.show()"
      ],
      "execution_count": 20,
      "outputs": [
        {
          "output_type": "display_data",
          "data": {
            "image/png": "[encoded data removed]",
            "text/plain": [
              "<Figure size 720x432 with 1 Axes>"
            ]
          },
          "metadata": {
            "tags": []
          }
        }
      ]
    },
    {
      "metadata": {
        "id": "05kmObD78MjB",
        "colab_type": "code",
        "outputId": "24d3f17f-439d-4dd1-9b66-f522534ec6b5",
        "colab": {
          "base_uri": "https://localhost:8080/",
          "height": 34
        }
      },
      "cell_type": "code",
      "source": [
        "percentile_idx = np.array(expr_scores)[:,1].flatten()\n",
        "\n",
        "print(\"Words at percentile 90 / 95 / 97.5 / 99:\",\n",
        "      np.percentile(percentile_idx, [90, 95, 97.5, 99]).round(0))"
      ],
      "execution_count": 21,
      "outputs": [
        {
          "output_type": "stream",
          "text": [
            "Words at percentile 90 / 95 / 97.5 / 99: [207. 265. 340. 438.]\n"
          ],
          "name": "stdout"
        }
      ]
    },
    {
      "metadata": {
        "id": "Xaciznn7wBeU",
        "colab_type": "text"
      },
      "cell_type": "markdown",
      "source": [
        "In fact, the longest review is over 4000 words not even drawn on the plot. The word counts are skewed with most of them centered on the shorter side. About 100 words are the average of them. Since they are not normal or in similar shape, we may not conduct a statistical test, although there are still some available tests. Instead, we like to focus on cutting off the long tail, the outliers. This can be done either by tokenizing or simply splitting sentences. The former should use *spacy* library and the letter can use the build-in function. The result might be different but not significantly."
      ]
    },
    {
      "metadata": {
        "id": "WP9Gqnq4HGYP",
        "colab_type": "code",
        "outputId": "712d7803-593e-4aaa-989c-748da55c2914",
        "colab": {
          "base_uri": "https://localhost:8080/",
          "height": 136
        }
      },
      "cell_type": "code",
      "source": [
        "print(\"Time elapsed for Spacy nlp processing\")\n",
        "%time t1 = df['Text'][:100].apply(lambda x: True if len(nlp(x))<=300 else False)\n",
        "\n",
        "print(\"\\nTime elapsed for Python built-in split processing\")\n",
        "%time t2 = df['Text'][:100].apply(lambda x: True if len(x.split(' '))<=300 else False)"
      ],
      "execution_count": 22,
      "outputs": [
        {
          "output_type": "stream",
          "text": [
            "Time elapsed for Spacy nlp processing\n",
            "CPU times: user 6.03 s, sys: 2.28 s, total: 8.31 s\n",
            "Wall time: 4.26 s\n",
            "\n",
            "Time elapsed for Python built-in split processing\n",
            "CPU times: user 1.85 ms, sys: 1.17 ms, total: 3.02 ms\n",
            "Wall time: 1.55 ms\n"
          ],
          "name": "stdout"
        }
      ]
    },
    {
      "metadata": {
        "id": "rA1i30hE_iQx",
        "colab_type": "code",
        "outputId": "093df6c6-7620-4f7c-e38b-d4826a59e492",
        "colab": {
          "base_uri": "https://localhost:8080/",
          "height": 34
        }
      },
      "cell_type": "code",
      "source": [
        "rows_before = df.shape[0]\n",
        "\n",
        "# throw rows with over 300 words\n",
        "df = df[df['Text'].apply(lambda x: True if len(x.split(' '))<=280\n",
        "                         else False)]\n",
        "df.reset_index(drop=True, inplace=True)\n",
        "rows_after = df.shape[0]\n",
        "\n",
        "# check the result\n",
        "print(\"Data size change:\", round(rows_after/rows_before, 3), '%')"
      ],
      "execution_count": 23,
      "outputs": [
        {
          "output_type": "stream",
          "text": [
            "Data size change: 0.975 %\n"
          ],
          "name": "stdout"
        }
      ]
    },
    {
      "metadata": {
        "id": "CtHYSedfBSs7",
        "colab_type": "text"
      },
      "cell_type": "markdown",
      "source": [
        "## 4. Topic Analysis\n",
        "Decomposition techniques such as *Latent Dirichlet Allocation* or *Non-negative Matrix Factorization* are good at extracting topics. Both fall in unsupervised learning category, therefore, it may not directly help us build a model. Nonetheless, the topic analysis is helpful to understand what contents we are dealing with. We will group the reviews into 10 topics."
      ]
    },
    {
      "metadata": {
        "id": "kiMEgS1xgoX1",
        "colab_type": "code",
        "colab": {}
      },
      "cell_type": "code",
      "source": [
        "from sklearn.decomposition import LatentDirichletAllocation\n",
        "from sklearn.feature_extraction.text import CountVectorizer\n",
        "from sklearn.feature_extraction.text import TfidfVectorizer\n",
        "from sklearn.decomposition import NMF"
      ],
      "execution_count": 0,
      "outputs": []
    },
    {
      "metadata": {
        "id": "zsTWlRAijOen",
        "colab_type": "code",
        "colab": {}
      },
      "cell_type": "code",
      "source": [
        "def lda_extract(size, score, num_topic):\n",
        "  indice = df[df['Score']==score].index\n",
        "  sentences = df.iloc[np.random.choice(indice, size, replace=False)]['Text']\n",
        "\n",
        "  vectorizer = CountVectorizer(max_df=.95, min_df=10, stop_words='english')\n",
        "  topic_sentences = vectorizer.fit_transform(sentences)\n",
        "\n",
        "  LDA = LatentDirichletAllocation(n_components=num_topic)\n",
        "  LDA.fit(topic_sentences)\n",
        "  \n",
        "  print(\"- Score \", score, \" Topics\")\n",
        "  for i, topic in enumerate(LDA.components_):\n",
        "    print(i+1, \":\", [vectorizer.get_feature_names()[j] for j \n",
        "          in topic.argsort()[-10:]])\n",
        "  print('\\n')"
      ],
      "execution_count": 0,
      "outputs": []
    },
    {
      "metadata": {
        "id": "sWf-Zs4E0lms",
        "colab_type": "code",
        "outputId": "2d1edf58-6168-4507-a4a1-b7c9bd2f1e47",
        "colab": {
          "base_uri": "https://localhost:8080/",
          "height": 697
        }
      },
      "cell_type": "code",
      "source": [
        "for i in np.arange(1,6):\n",
        "  lda_extract(2000, i, 5)"
      ],
      "execution_count": 26,
      "outputs": [
        {
          "output_type": "stream",
          "text": [
            "- Score  1  Topics\n",
            "1 : ['like', 'price', 'bag', 'ordered', 'order', 'item', 'box', 'product', 'amazon', 'tea']\n",
            "2 : ['cans', 'time', 'buy', 'cat', 'cats', 'amazon', 'product', 'eat', 'like', 'food']\n",
            "3 : ['bought', 'buy', 'food', 'just', 'product', 'china', 'jerky', 'dogs', 'treats', 'dog']\n",
            "4 : ['tastes', 'cup', 'bad', 'good', 'tried', 'just', 'flavor', 'coffee', 'taste', 'like']\n",
            "5 : ['bottle', 'amazon', 'like', 'taste', 'package', 'just', 'ingredients', 'oil', 'sugar', 'product']\n",
            "\n",
            "\n",
            "- Score  2  Topics\n",
            "1 : ['tasted', 'better', 'chocolate', 'try', 'really', 'good', 'flavor', 'like', 'just', 'taste']\n",
            "2 : ['texture', 'juice', 'flavor', 'bars', 'good', 'don', 'sugar', 'taste', 'like', 'product']\n",
            "3 : ['received', 'got', 'bought', 'store', 'time', 'order', 'price', 'amazon', 'box', 'product']\n",
            "4 : ['taste', 'just', 'treats', 'eat', 'don', 'really', 'product', 'food', 'like', 'dog']\n",
            "5 : ['drink', 'water', 'just', 'good', 'cup', 'flavor', 'taste', 'like', 'tea', 'coffee']\n",
            "\n",
            "\n",
            "- Score  3  Topics\n",
            "1 : ['just', 'strong', 'cups', 'taste', 'good', 'cup', 'flavor', 'like', 'tea', 'coffee']\n",
            "2 : ['don', 'really', 'box', 'just', 'chocolate', 'product', 'flavor', 'taste', 'good', 'like']\n",
            "3 : ['small', 'dogs', 'treats', 'good', 'great', 'really', 'treat', 'just', 'dog', 'like']\n",
            "4 : ['better', 'tea', 'use', 'flavor', 'drink', 'good', 'just', 'water', 'like', 'taste']\n",
            "5 : ['cats', 'just', 'price', 'dog', 'cat', 'eat', 'like', 'good', 'product', 'food']\n",
            "\n",
            "\n",
            "- Score  4  Topics\n",
            "1 : ['flavor', 'chocolate', 'eat', 'just', 'sweet', 'snack', 'great', 'taste', 'like', 'good']\n",
            "2 : ['little', 'time', 'chocolate', 'just', 'buy', 'amazon', 'like', 'bag', 'good', 'flavor']\n",
            "3 : ['price', 'strong', 'taste', 'cups', 'tea', 'like', 'flavor', 'good', 'cup', 'coffee']\n",
            "4 : ['dogs', 'treats', 'little', 'good', 'tea', 'just', 'product', 'like', 'dog', 'food']\n",
            "5 : ['drink', 'just', 'flavor', 'water', 'tea', 'use', 'product', 'good', 'taste', 'like']\n",
            "\n",
            "\n",
            "- Score  5  Topics\n",
            "1 : ['taste', 'make', 'water', 'product', 'just', 'good', 'use', 'love', 'great', 'like']\n",
            "2 : ['jerky', 'best', 'order', 'just', 'love', 'store', 'price', 'great', 'product', 'amazon']\n",
            "3 : ['love', 'loves', 'tried', 'taste', 'treats', 'flavor', 'just', 'dog', 'like', 'good']\n",
            "4 : ['just', 'flavor', 'chocolate', 'good', 'love', 'cat', 'like', 'great', 'food', 'tea']\n",
            "5 : ['product', 'drink', 'good', 'tea', 'taste', 'like', 'flavor', 'cup', 'great', 'coffee']\n",
            "\n",
            "\n"
          ],
          "name": "stdout"
        }
      ]
    },
    {
      "metadata": {
        "id": "cITiOrFwm_1o",
        "colab_type": "text"
      },
      "cell_type": "markdown",
      "source": [
        "The topics are staples like sugar and milk, pets, sweets, drinks like coffee and tea, price, and taste and flavor. These are all relevant with foods and the words in each topic are also related somehow."
      ]
    },
    {
      "metadata": {
        "id": "bLJ2Fkp8x3PI",
        "colab_type": "code",
        "colab": {}
      },
      "cell_type": "code",
      "source": [
        "def nmf_extract(size, score, num_topic):\n",
        "  indice = df[df['Score']==score].index\n",
        "  sentences = df.iloc[np.random.choice(indice, size, replace=False)]['Text']\n",
        "\n",
        "  vectorizer = CountVectorizer(max_df=.95, min_df=10, stop_words='english')\n",
        "  topic_sentences = vectorizer.fit_transform(sentences)\n",
        "\n",
        "  nmf = NMF(n_components=num_topic)\n",
        "  nmf.fit(topic_sentences)\n",
        "  \n",
        "  print(\"- Score \", score, \" Topics\")\n",
        "  for i, topic in enumerate(nmf.components_):\n",
        "    print(i+1, \":\", [vectorizer.get_feature_names()[j] for j \n",
        "          in topic.argsort()[-10:]])\n",
        "  print('\\n')"
      ],
      "execution_count": 0,
      "outputs": []
    },
    {
      "metadata": {
        "id": "wzy_5Lep32ZN",
        "colab_type": "code",
        "outputId": "c9754fbc-f57f-4bac-9cbd-85f5bc791dc8",
        "colab": {
          "base_uri": "https://localhost:8080/",
          "height": 697
        }
      },
      "cell_type": "code",
      "source": [
        "for i in np.arange(1,6):\n",
        "  nmf_extract(2000, i, 5)"
      ],
      "execution_count": 28,
      "outputs": [
        {
          "output_type": "stream",
          "text": [
            "- Score  1  Topics\n",
            "1 : ['bad', 'tried', 'really', 'tastes', 'good', 'don', 'flavor', 'just', 'taste', 'like']\n",
            "2 : ['did', 'box', 'buy', 'don', 'order', 'received', 'products', 'ordered', 'amazon', 'product']\n",
            "3 : ['picture', 've', 'bag', 'bags', 'stash', 'box', 'teas', 'organic', 'green', 'tea']\n",
            "4 : ['cats', 'eat', 'vet', 'pet', 'just', 'cat', 'dogs', 'treats', 'dog', 'food']\n",
            "5 : ['tried', 'keurig', 'pack', 'coffees', 'hazelnut', 'cups', 'flavored', 'flavor', 'cup', 'coffee']\n",
            "\n",
            "\n",
            "- Score  2  Topics\n",
            "1 : ['love', 'did', 'didn', 'try', 'tastes', 'don', 'just', 'really', 'flavor', 'like']\n",
            "2 : ['beans', 'flavor', 'roast', 'good', 'strong', 'bitter', 'weak', 'cups', 'cup', 'coffee']\n",
            "3 : ['ginger', 'black', 'box', 'drink', 'bags', 'cup', 'green', 'flavor', 'water', 'tea']\n",
            "4 : ['don', 'eat', 'really', 'time', 'dog', 'amazon', 'just', 'good', 'food', 'product']\n",
            "5 : ['drink', 'tried', 'better', 'just', 'water', 'mix', 'sugar', 'chocolate', 'good', 'taste']\n",
            "\n",
            "\n",
            "- Score  3  Topics\n",
            "1 : ['sweet', 'just', 'sugar', 'don', 'really', 'chocolate', 'good', 'taste', 'flavor', 'like']\n",
            "2 : ['use', 'strong', 'cups', 'pod', 'great', 'senseo', 'like', 'pods', 'cup', 'coffee']\n",
            "3 : ['cup', 'lemon', 'drink', 'bags', 'just', 'organic', 'green', 'teas', 'flavor', 'tea']\n",
            "4 : ['time', 'bag', 'eat', 'treats', 'cat', 'good', 'just', 'dog', 'product', 'food']\n",
            "5 : ['product', 'really', 'bottled', 'bottle', 'good', 'better', 'drink', 'just', 'taste', 'water']\n",
            "\n",
            "\n",
            "- Score  4  Topics\n",
            "1 : ['price', 'taste', 'little', 'use', 'chocolate', 'great', 'just', 'product', 'flavor', 'good']\n",
            "2 : ['good', 'blend', 'starbucks', 'taste', 'flavored', 'cups', 'roast', 'vanilla', 'cup', 'coffee']\n",
            "3 : ['bag', 'caffeine', 'black', 'box', 'flavor', 'organic', 'white', 'teas', 'green', 'tea']\n",
            "4 : ['price', 'chicken', 'treat', 'eat', 'cat', 'just', 'dogs', 'treats', 'dog', 'food']\n",
            "5 : ['flavors', 'tried', 'water', 'flavor', 'don', 'really', 'tastes', 'just', 'taste', 'like']\n",
            "\n",
            "\n",
            "- Score  5  Topics\n",
            "1 : ['really', 'time', 'price', 'use', 'amazon', 'just', 'good', 'love', 'product', 'great']\n",
            "2 : ['bag', 'diet', 'dogs', 've', 'vet', 'eat', 'cats', 'dog', 'cat', 'food']\n",
            "3 : ['taste', 'earl', 'good', 'green', 'black', 'flavor', 'try', 'teas', 'drink', 'tea']\n",
            "4 : ['stars', 'flavors', 'bold', 'keurig', 'green', 'cups', 'blend', 'mountain', 'cup', 'coffee']\n",
            "5 : ['ve', 'tried', 'good', 'really', 'don', 'just', 'flavor', 'chocolate', 'taste', 'like']\n",
            "\n",
            "\n"
          ],
          "name": "stdout"
        }
      ]
    },
    {
      "metadata": {
        "id": "580yoBL5oHOU",
        "colab_type": "text"
      },
      "cell_type": "markdown",
      "source": [
        "The result of *NMF* is very similar with *LDA* both in topics and the words in them. With the topics, we can say that what users are talking about is mostly items, taste, and prices. If there were topics like 'military' or 'politics', we may consider more research to remove them. But all topics look in our scope, thus, we don't need to remove any of them."
      ]
    },
    {
      "metadata": {
        "id": "0-QBXbqUBX4i",
        "colab_type": "text"
      },
      "cell_type": "markdown",
      "source": [
        "## 5. Sentiment Analysis\n",
        "Every word in a sentence has a certain level of sentiment. Simply speaking, the word 'Good' is mostly related with a positive feeling while 'Bad' is negetive. However, the human language system isn't so simple that one word could have different meanings depending on a context. Also some words do not have any sentiment. What *NLTK* library we will be using only does overall word-by-word job to capture sentiments without understanding sentences in depth."
      ]
    },
    {
      "metadata": {
        "id": "Ywk-NzhenAby",
        "colab_type": "code",
        "outputId": "d320ed70-4383-481f-eee4-bea75b2b6fb0",
        "colab": {
          "base_uri": "https://localhost:8080/",
          "height": 34
        }
      },
      "cell_type": "code",
      "source": [
        "import nltk\n",
        "nltk.download('vader_lexicon')\n",
        "from nltk.sentiment.vader import SentimentIntensityAnalyzer"
      ],
      "execution_count": 29,
      "outputs": [
        {
          "output_type": "stream",
          "text": [
            "[nltk_data] Downloading package vader_lexicon to /root/nltk_data...\n"
          ],
          "name": "stdout"
        }
      ]
    },
    {
      "metadata": {
        "id": "Rs4jrXypomLU",
        "colab_type": "code",
        "colab": {}
      },
      "cell_type": "code",
      "source": [
        "sid = SentimentIntensityAnalyzer()\n",
        "\n",
        "scores = random_pooling(df, 2000)\n",
        "comp_scores = [df.iloc[scores[i]]['Text'].apply(lambda x:\n",
        "               sid.polarity_scores(x)['compound']) for i in range(5)]"
      ],
      "execution_count": 0,
      "outputs": []
    },
    {
      "metadata": {
        "id": "wBNCks43omCE",
        "colab_type": "code",
        "outputId": "97b70694-e946-490a-e1fe-31fb34e99edc",
        "colab": {
          "base_uri": "https://localhost:8080/",
          "height": 424
        }
      },
      "cell_type": "code",
      "source": [
        "colors = ['red', 'blue', 'green', 'purple', 'yellow']\n",
        "labels=['score 1', 'score 2', 'score 3', 'score 4', 'score 5']\n",
        "\n",
        "plt.figure(figsize=(10,6))\n",
        "plt.hist(comp_scores, bins=11, color=colors, label=labels)\n",
        "plt.title(\"Sentiment Scores\", fontsize=15)\n",
        "plt.xlabel(r\"$\\leftarrow\\ Negative\\ Positive\\ \\rightarrow$\", fontsize=12)\n",
        "plt.ylabel(\"200 Examples per Score\", fontsize=12)\n",
        "plt.xlim(-1,1)\n",
        "plt.legend()\n",
        "plt.show()"
      ],
      "execution_count": 31,
      "outputs": [
        {
          "output_type": "display_data",
          "data": {
            "image/png": "[encoded data removed]",
            "text/plain": [
              "<Figure size 720x432 with 1 Axes>"
            ]
          },
          "metadata": {
            "tags": []
          }
        }
      ]
    },
    {
      "metadata": {
        "id": "nNAximb2hduw",
        "colab_type": "text"
      },
      "cell_type": "markdown",
      "source": [
        "From the left where sentiments are the most negative, the score 1 sentences are the most and the score 2, and so on. This pattern continues to over 0.00 where sentences are neutral. After then, the high scores start to surge and end up being the most at the most positive sentiments. Score 4 and 5 sentences are almost invisible until 0.50 but pop out largely after that point. Surprisingly, score 1 sentences used quite many positive words, however, this must be words like 'like' or '!' because *Vader* takes them as positive words."
      ]
    },
    {
      "metadata": {
        "id": "QUuWfNK4ol3g",
        "colab_type": "code",
        "outputId": "a7c24ea0-c2e7-4688-a00d-39098ab40182",
        "colab": {
          "base_uri": "https://localhost:8080/",
          "height": 111
        }
      },
      "cell_type": "code",
      "source": [
        "pd.DataFrame({'label': df.iloc[np.array(scores).flatten()]['Score'],\n",
        "              'compound': np.array(comp_scores).flatten()}).corr()"
      ],
      "execution_count": 32,
      "outputs": [
        {
          "output_type": "execute_result",
          "data": {
            "text/html": [
              "<div>\n",
              "<style scoped>\n",
              "    .dataframe tbody tr th:only-of-type {\n",
              "        vertical-align: middle;\n",
              "    }\n",
              "\n",
              "    .dataframe tbody tr th {\n",
              "        vertical-align: top;\n",
              "    }\n",
              "\n",
              "    .dataframe thead th {\n",
              "        text-align: right;\n",
              "    }\n",
              "</style>\n",
              "<table border=\"1\" class=\"dataframe\">\n",
              "  <thead>\n",
              "    <tr style=\"text-align: right;\">\n",
              "      <th></th>\n",
              "      <th>compound</th>\n",
              "      <th>label</th>\n",
              "    </tr>\n",
              "  </thead>\n",
              "  <tbody>\n",
              "    <tr>\n",
              "      <th>compound</th>\n",
              "      <td>1.000000</td>\n",
              "      <td>0.468456</td>\n",
              "    </tr>\n",
              "    <tr>\n",
              "      <th>label</th>\n",
              "      <td>0.468456</td>\n",
              "      <td>1.000000</td>\n",
              "    </tr>\n",
              "  </tbody>\n",
              "</table>\n",
              "</div>"
            ],
            "text/plain": [
              "          compound     label\n",
              "compound  1.000000  0.468456\n",
              "label     0.468456  1.000000"
            ]
          },
          "metadata": {
            "tags": []
          },
          "execution_count": 32
        }
      ]
    },
    {
      "metadata": {
        "id": "S5_W_M_Si6a-",
        "colab_type": "text"
      },
      "cell_type": "markdown",
      "source": [
        "The sentiments are 0.5 correlated with scores, which is more than moderate but not too high. This could be built into a model if it was higher. Still, we can consider using this as a feature in addition to the text feature. Knowing that, we should also keep in mind that there are sarcasm sentences like some examples as below."
      ]
    },
    {
      "metadata": {
        "id": "wrdunFLE9Nnp",
        "colab_type": "code",
        "outputId": "bef655f3-2995-46a6-ea70-5cd37ce9d517",
        "colab": {
          "base_uri": "https://localhost:8080/",
          "height": 476
        }
      },
      "cell_type": "code",
      "source": [
        "score_1_good = comp_scores[0].apply(lambda x: x \n",
        "                              if x>0.8 else None).dropna().index\n",
        "\n",
        "score_1_examples = list(df.iloc[score_1_good]['Text'])\n",
        "\n",
        "pprint(score_1_examples[0])\n",
        "print('\\n')\n",
        "pprint(score_1_examples[3])\n",
        "print('\\n')\n",
        "pprint(score_1_examples[9])"
      ],
      "execution_count": 33,
      "outputs": [
        {
          "output_type": "stream",
          "text": [
            "(\"There was a piece of a different formula label underneath the Earth's Best \"\n",
            " 'Formula label!!  Even the bottom of the can had a different look than the '\n",
            " \"Earth's Best Soy formula that is sold in the store.  We contacted the \"\n",
            " 'manufacturer about this issue and they have yet to respond.')\n",
            "\n",
            "\n",
            "('First of all, I am aware that this is made for the gun, however after '\n",
            " 'reading the reviews I purchased it and let me say I have never been more '\n",
            " 'dissapointed. In the picture the gold is brilliant, bold, and intense. When '\n",
            " 'I got this product it was oily in appearance and looked like vinegar in '\n",
            " 'color. I used a paintbrush as I read in a previous review. The color is a '\n",
            " 'yellow, maybe a copper tone---nothing like gold. I used part of this for an '\n",
            " 'anniversary cake--I had to drive to the arts and crafts store to purchase '\n",
            " 'Wiltons Gold shimmer to attempt to cover this disaster. I thought $15 was '\n",
            " 'pretty expensive in the first place, but after using the product I am sure '\n",
            " 'it is not worth a single cent. I cannot believe how grotesque this color is. '\n",
            " 'If I wanted a copper/yellow tone I would have just used edible dye---I sure '\n",
            " 'would have saved the money for something else. I bake hundreds of cakes each '\n",
            " 'year, and I am confident to say that this is the worst item I have ever '\n",
            " 'used. Garbage. I have another bottle that should be arriving in the mail in '\n",
            " 'a couple days for the silver color, I will be sending it right back and '\n",
            " 'getting my money back for sure!')\n",
            "\n",
            "\n",
            "(\"Let's just say if you like eating cardboard with flavor then you'll love \"\n",
            " 'this product.  I found the taste to be good but the texture of it was like '\n",
            " 'eating cheese flavored cardboard.  I am not trying to be funny, just honest.')\n"
          ],
          "name": "stdout"
        }
      ]
    },
    {
      "metadata": {
        "id": "jmpSbBpuBc07",
        "colab_type": "text"
      },
      "cell_type": "markdown",
      "source": [
        "## 6. Named Entity Recognition\n",
        "Our focus is analyzing general reviews on foods, not specific products or companies. This is to make the model applicable to any type of food reviews. For this, we need to eliminate named entities to purely focus on expressions. This can be done by *spacy* again with its capacity of identifying named entities. We have downloaded the large corpus which will recognize major products and companies, etc. This process could be unnecessary because these named entities would not show up in not that many reviews, meaning that they would be ignored anyway later in modeling. However, we can be sure of that not happening until we read all or most of the reviews. That's why this process is recommended."
      ]
    },
    {
      "metadata": {
        "id": "ckR5NdNHUMpH",
        "colab_type": "code",
        "outputId": "e518a232-ecac-44a7-feb6-33568b299214",
        "colab": {
          "base_uri": "https://localhost:8080/",
          "height": 51
        }
      },
      "cell_type": "code",
      "source": [
        "from collections import Counter\n",
        "\n",
        "df['Score'].value_counts()\n",
        "\n",
        "min_len = len(df[df['Score']==2])\n",
        "\n",
        "print(\"Before undersampling: classes -\", Counter(df['Score']))\n",
        "undersampling_idx = random_pooling(df, min_len)\n",
        "df = df.iloc[np.array(undersampling_idx).flatten()]\n",
        "df.reset_index(drop=True, inplace=True)\n",
        "print(\"After undersampling: classes -\", Counter(df['Score']))"
      ],
      "execution_count": 34,
      "outputs": [
        {
          "output_type": "stream",
          "text": [
            "Before undersampling: classes - Counter({5: 332420, 4: 69406, 3: 31487, 1: 30998, 2: 19994})\n",
            "After undersampling: classes - Counter({1: 19994, 2: 19994, 3: 19994, 4: 19994, 5: 19994})\n"
          ],
          "name": "stdout"
        }
      ]
    },
    {
      "metadata": {
        "id": "8mh0MJsMWuhy",
        "colab_type": "code",
        "outputId": "34d8d064-519b-43d7-e3d9-4cb64fd1913b",
        "colab": {
          "base_uri": "https://localhost:8080/",
          "height": 857
        }
      },
      "cell_type": "code",
      "source": [
        "rand_idx = np.random.choice(df.index, 10)\n",
        "entities_10_sentences = nlp(' '.join(df.iloc[rand_idx]['Text']))\n",
        "displacy.render(entities_10_sentences, style='ent', jupyter=True)"
      ],
      "execution_count": 35,
      "outputs": [
        {
          "output_type": "display_data",
          "data": {
            "text/html": [
              "<div class=\"entities\" style=\"line-height: 2.5\">I am very pleased with my \n",
              "<mark class=\"entity\" style=\"background: #7aecec; padding: 0.45em 0.6em; margin: 0 0.25em; line-height: 1; border-radius: 0.35em; box-decoration-break: clone; -webkit-box-decoration-break: clone\">\n",
              "    ZOTZ\n",
              "    <span style=\"font-size: 0.8em; font-weight: bold; line-height: 1; border-radius: 0.35em; text-transform: uppercase; vertical-align: middle; margin-left: 0.5rem\">ORG</span>\n",
              "</mark>\n",
              " order, this is \n",
              "<mark class=\"entity\" style=\"background: #bfe1d9; padding: 0.45em 0.6em; margin: 0 0.25em; line-height: 1; border-radius: 0.35em; box-decoration-break: clone; -webkit-box-decoration-break: clone\">\n",
              "    the 2nd\n",
              "    <span style=\"font-size: 0.8em; font-weight: bold; line-height: 1; border-radius: 0.35em; text-transform: uppercase; vertical-align: middle; margin-left: 0.5rem\">DATE</span>\n",
              "</mark>\n",
              " time I have ordered them from \n",
              "<mark class=\"entity\" style=\"background: #7aecec; padding: 0.45em 0.6em; margin: 0 0.25em; line-height: 1; border-radius: 0.35em; box-decoration-break: clone; -webkit-box-decoration-break: clone\">\n",
              "    AMAZON\n",
              "    <span style=\"font-size: 0.8em; font-weight: bold; line-height: 1; border-radius: 0.35em; text-transform: uppercase; vertical-align: middle; margin-left: 0.5rem\">ORG</span>\n",
              "</mark>\n",
              ", although this batch I received are not SO easy to open, the candy sticks to the wrapper and there are some Im finding that are in pieces.Other than that I am loving the \n",
              "<mark class=\"entity\" style=\"background: #7aecec; padding: 0.45em 0.6em; margin: 0 0.25em; line-height: 1; border-radius: 0.35em; box-decoration-break: clone; -webkit-box-decoration-break: clone\">\n",
              "    BLUE\n",
              "    <span style=\"font-size: 0.8em; font-weight: bold; line-height: 1; border-radius: 0.35em; text-transform: uppercase; vertical-align: middle; margin-left: 0.5rem\">ORG</span>\n",
              "</mark>\n",
              " RASBERRY FLAVOR!!!  I have shared many with people that have never had them before, they were my favorite as a child.  thanks.\n",
              "<mark class=\"entity\" style=\"background: #aa9cfc; padding: 0.45em 0.6em; margin: 0 0.25em; line-height: 1; border-radius: 0.35em; box-decoration-break: clone; -webkit-box-decoration-break: clone\">\n",
              "    Lori\n",
              "    <span style=\"font-size: 0.8em; font-weight: bold; line-height: 1; border-radius: 0.35em; text-transform: uppercase; vertical-align: middle; margin-left: 0.5rem\">PERSON</span>\n",
              "</mark>\n",
              " I have a \n",
              "<mark class=\"entity\" style=\"background: #bfe1d9; padding: 0.45em 0.6em; margin: 0 0.25em; line-height: 1; border-radius: 0.35em; box-decoration-break: clone; -webkit-box-decoration-break: clone\">\n",
              "    one year\n",
              "    <span style=\"font-size: 0.8em; font-weight: bold; line-height: 1; border-radius: 0.35em; text-transform: uppercase; vertical-align: middle; margin-left: 0.5rem\">DATE</span>\n",
              "</mark>\n",
              " old \n",
              "<mark class=\"entity\" style=\"background: #c887fb; padding: 0.45em 0.6em; margin: 0 0.25em; line-height: 1; border-radius: 0.35em; box-decoration-break: clone; -webkit-box-decoration-break: clone\">\n",
              "    Pomeranian\n",
              "    <span style=\"font-size: 0.8em; font-weight: bold; line-height: 1; border-radius: 0.35em; text-transform: uppercase; vertical-align: middle; margin-left: 0.5rem\">NORP</span>\n",
              "</mark>\n",
              " whom has been on greenies since she was \n",
              "<mark class=\"entity\" style=\"background: #bfe1d9; padding: 0.45em 0.6em; margin: 0 0.25em; line-height: 1; border-radius: 0.35em; box-decoration-break: clone; -webkit-box-decoration-break: clone\">\n",
              "    about 3mos\n",
              "    <span style=\"font-size: 0.8em; font-weight: bold; line-height: 1; border-radius: 0.35em; text-transform: uppercase; vertical-align: middle; margin-left: 0.5rem\">DATE</span>\n",
              "</mark>\n",
              ". Let me tell you, I've gone to the vet several times during \n",
              "<mark class=\"entity\" style=\"background: #bfe1d9; padding: 0.45em 0.6em; margin: 0 0.25em; line-height: 1; border-radius: 0.35em; box-decoration-break: clone; -webkit-box-decoration-break: clone\">\n",
              "    her first year\n",
              "    <span style=\"font-size: 0.8em; font-weight: bold; line-height: 1; border-radius: 0.35em; text-transform: uppercase; vertical-align: middle; margin-left: 0.5rem\">DATE</span>\n",
              "</mark>\n",
              " for different reasons. The \n",
              "<mark class=\"entity\" style=\"background: #e4e7d2; padding: 0.45em 0.6em; margin: 0 0.25em; line-height: 1; border-radius: 0.35em; box-decoration-break: clone; -webkit-box-decoration-break: clone\">\n",
              "    first\n",
              "    <span style=\"font-size: 0.8em; font-weight: bold; line-height: 1; border-radius: 0.35em; text-transform: uppercase; vertical-align: middle; margin-left: 0.5rem\">ORDINAL</span>\n",
              "</mark>\n",
              " time her vet was happy to see that she had a healthy \"smile\" and hoped it continued, she was still a puppy. Since then, we moved to another city and she now has a different vet. This vet was so excited, and YES i said EXCITED, to see my fur baby's gums and teeth. The vet asked to take a picture of Foxy's(my fur baby) teeth to post on their website. She asked me if i brush them \n",
              "<mark class=\"entity\" style=\"background: #bfe1d9; padding: 0.45em 0.6em; margin: 0 0.25em; line-height: 1; border-radius: 0.35em; box-decoration-break: clone; -webkit-box-decoration-break: clone\">\n",
              "    daily\n",
              "    <span style=\"font-size: 0.8em; font-weight: bold; line-height: 1; border-radius: 0.35em; text-transform: uppercase; vertical-align: middle; margin-left: 0.5rem\">DATE</span>\n",
              "</mark>\n",
              ". I said nope, we've been using greenies does that count?? She said YES and added, in detail, how healthy it is for them in A LOT of aspects. Buying them from a pet store is ridiculous to me because the price for a pack of \n",
              "<mark class=\"entity\" style=\"background: #e4e7d2; padding: 0.45em 0.6em; margin: 0 0.25em; line-height: 1; border-radius: 0.35em; box-decoration-break: clone; -webkit-box-decoration-break: clone\">\n",
              "    20\n",
              "    <span style=\"font-size: 0.8em; font-weight: bold; line-height: 1; border-radius: 0.35em; text-transform: uppercase; vertical-align: middle; margin-left: 0.5rem\">CARDINAL</span>\n",
              "</mark>\n",
              " is \n",
              "<mark class=\"entity\" style=\"background: #e4e7d2; padding: 0.45em 0.6em; margin: 0 0.25em; line-height: 1; border-radius: 0.35em; box-decoration-break: clone; -webkit-box-decoration-break: clone\">\n",
              "    over $19\n",
              "    <span style=\"font-size: 0.8em; font-weight: bold; line-height: 1; border-radius: 0.35em; text-transform: uppercase; vertical-align: middle; margin-left: 0.5rem\">MONEY</span>\n",
              "</mark>\n",
              ". ARE YOU KIDDING ME?!?!?! So when i saw this price and the amt that come in the pack, I've been buying them on here ever since!! I give them to her once a \n",
              "<mark class=\"entity\" style=\"background: #bfe1d9; padding: 0.45em 0.6em; margin: 0 0.25em; line-height: 1; border-radius: 0.35em; box-decoration-break: clone; -webkit-box-decoration-break: clone\">\n",
              "    day\n",
              "    <span style=\"font-size: 0.8em; font-weight: bold; line-height: 1; border-radius: 0.35em; text-transform: uppercase; vertical-align: middle; margin-left: 0.5rem\">DATE</span>\n",
              "</mark>\n",
              " EVERYDAY at \n",
              "<mark class=\"entity\" style=\"background: #bfe1d9; padding: 0.45em 0.6em; margin: 0 0.25em; line-height: 1; border-radius: 0.35em; box-decoration-break: clone; -webkit-box-decoration-break: clone\">\n",
              "    9pm\n",
              "    <span style=\"font-size: 0.8em; font-weight: bold; line-height: 1; border-radius: 0.35em; text-transform: uppercase; vertical-align: middle; margin-left: 0.5rem\">TIME</span>\n",
              "</mark>\n",
              ". She even recognizes the word \"greenies\" and follows me to the pantry when it's that time of day for her. Because of a previous review i read about storing them in the container it comes in for a while caused maggots, i got really grossed out(has NEVER happened to me) so JUST IN CASE, i dump them in a snap seal, clear, plastic container. Maybe it because almonds are my favorite nut, but I didn't notice an abundance of them as other have noted. I guess if you don't like almonds though you probably want to stay away from mixed nuts. The nuts are great tasting, but now they have come off of subscribe and save and are no longer a great deal. Would have given the product \n",
              "<mark class=\"entity\" style=\"background: #e4e7d2; padding: 0.45em 0.6em; margin: 0 0.25em; line-height: 1; border-radius: 0.35em; box-decoration-break: clone; -webkit-box-decoration-break: clone\">\n",
              "    five\n",
              "    <span style=\"font-size: 0.8em; font-weight: bold; line-height: 1; border-radius: 0.35em; text-transform: uppercase; vertical-align: middle; margin-left: 0.5rem\">CARDINAL</span>\n",
              "</mark>\n",
              " stars, but now it gets \n",
              "<mark class=\"entity\" style=\"background: #e4e7d2; padding: 0.45em 0.6em; margin: 0 0.25em; line-height: 1; border-radius: 0.35em; box-decoration-break: clone; -webkit-box-decoration-break: clone\">\n",
              "    2\n",
              "    <span style=\"font-size: 0.8em; font-weight: bold; line-height: 1; border-radius: 0.35em; text-transform: uppercase; vertical-align: middle; margin-left: 0.5rem\">CARDINAL</span>\n",
              "</mark>\n",
              " because it is cheaper to get at the grocery store now. Thought this was good for $\n",
              "<mark class=\"entity\" style=\"background: #e4e7d2; padding: 0.45em 0.6em; margin: 0 0.25em; line-height: 1; border-radius: 0.35em; box-decoration-break: clone; -webkit-box-decoration-break: clone\">\n",
              "    9.99\n",
              "    <span style=\"font-size: 0.8em; font-weight: bold; line-height: 1; border-radius: 0.35em; text-transform: uppercase; vertical-align: middle; margin-left: 0.5rem\">MONEY</span>\n",
              "</mark>\n",
              " price for a door prize at a tea I hosted.. but would not want to pay more than that for item. This is what your tea would taste like if you cut it with \n",
              "<mark class=\"entity\" style=\"background: #aa9cfc; padding: 0.45em 0.6em; margin: 0 0.25em; line-height: 1; border-radius: 0.35em; box-decoration-break: clone; -webkit-box-decoration-break: clone\">\n",
              "    Tang\n",
              "    <span style=\"font-size: 0.8em; font-weight: bold; line-height: 1; border-radius: 0.35em; text-transform: uppercase; vertical-align: middle; margin-left: 0.5rem\">PERSON</span>\n",
              "</mark>\n",
              ". No orange or jasmine blossoms to be seen, but lots of pithy dried orange peel chunks and a possible squirt of \n",
              "<mark class=\"entity\" style=\"background: #7aecec; padding: 0.45em 0.6em; margin: 0 0.25em; line-height: 1; border-radius: 0.35em; box-decoration-break: clone; -webkit-box-decoration-break: clone\">\n",
              "    OJ\n",
              "    <span style=\"font-size: 0.8em; font-weight: bold; line-height: 1; border-radius: 0.35em; text-transform: uppercase; vertical-align: middle; margin-left: 0.5rem\">ORG</span>\n",
              "</mark>\n",
              ", giving the tea a not-so-delicate, bitter orange flavor. I ordered this for my boyfriend because he has trouble sleeping sometimes. He loves it! It makes him a little bit loopy before he goes to sleep but he likes the feeling. The only thing I don't like is that on the shelf it smells like vomit. It grosses me out. It doesn't smell like that when it's brewed. This mix tastes more like cornbread than white chocolate. I do not recommend it for white hot chocolate because it does not taste anything like you would hope. I am so disappointed that this tastes so gross and will probably sit in my pantry forever. Shipping was fast for this product. It's nothing special for keurig, it's some powder in a plastic cup. Others say you're better off buying straight \n",
              "<mark class=\"entity\" style=\"background: #feca74; padding: 0.45em 0.6em; margin: 0 0.25em; line-height: 1; border-radius: 0.35em; box-decoration-break: clone; -webkit-box-decoration-break: clone\">\n",
              "    SF\n",
              "    <span style=\"font-size: 0.8em; font-weight: bold; line-height: 1; border-radius: 0.35em; text-transform: uppercase; vertical-align: middle; margin-left: 0.5rem\">GPE</span>\n",
              "</mark>\n",
              " cider mix & making it with hot water, but I can never find that. Just pop this open & mix with hot water.Also it comes out way too sweet on my largest cup setting, had to add more water until it tasted good/normal.If you're looking for a specially brewed item that it is not, if you want instant \n",
              "<mark class=\"entity\" style=\"background: #bfeeb7; padding: 0.45em 0.6em; margin: 0 0.25em; line-height: 1; border-radius: 0.35em; box-decoration-break: clone; -webkit-box-decoration-break: clone\">\n",
              "    Sugar Free Cider\n",
              "    <span style=\"font-size: 0.8em; font-weight: bold; line-height: 1; border-radius: 0.35em; text-transform: uppercase; vertical-align: middle; margin-left: 0.5rem\">PRODUCT</span>\n",
              "</mark>\n",
              " mix, it is! This was my \n",
              "<mark class=\"entity\" style=\"background: #e4e7d2; padding: 0.45em 0.6em; margin: 0 0.25em; line-height: 1; border-radius: 0.35em; box-decoration-break: clone; -webkit-box-decoration-break: clone\">\n",
              "    first\n",
              "    <span style=\"font-size: 0.8em; font-weight: bold; line-height: 1; border-radius: 0.35em; text-transform: uppercase; vertical-align: middle; margin-left: 0.5rem\">ORDINAL</span>\n",
              "</mark>\n",
              " time using \n",
              "<mark class=\"entity\" style=\"background: #aa9cfc; padding: 0.45em 0.6em; margin: 0 0.25em; line-height: 1; border-radius: 0.35em; box-decoration-break: clone; -webkit-box-decoration-break: clone\">\n",
              "    Bob\n",
              "    <span style=\"font-size: 0.8em; font-weight: bold; line-height: 1; border-radius: 0.35em; text-transform: uppercase; vertical-align: middle; margin-left: 0.5rem\">PERSON</span>\n",
              "</mark>\n",
              "'s \n",
              "<mark class=\"entity\" style=\"background: #7aecec; padding: 0.45em 0.6em; margin: 0 0.25em; line-height: 1; border-radius: 0.35em; box-decoration-break: clone; -webkit-box-decoration-break: clone\">\n",
              "    Red Mill\n",
              "    <span style=\"font-size: 0.8em; font-weight: bold; line-height: 1; border-radius: 0.35em; text-transform: uppercase; vertical-align: middle; margin-left: 0.5rem\">ORG</span>\n",
              "</mark>\n",
              " for this recipe.  I sifted it \n",
              "<mark class=\"entity\" style=\"background: #e4e7d2; padding: 0.45em 0.6em; margin: 0 0.25em; line-height: 1; border-radius: 0.35em; box-decoration-break: clone; -webkit-box-decoration-break: clone\">\n",
              "    4\n",
              "    <span style=\"font-size: 0.8em; font-weight: bold; line-height: 1; border-radius: 0.35em; text-transform: uppercase; vertical-align: middle; margin-left: 0.5rem\">CARDINAL</span>\n",
              "</mark>\n",
              " times to try to get a smooth result.  The cornbread was good, but there were still some gritty bits.  I will continue to experiment a bit.  I am happy with the quality and price. I really don't know how to rate this sauce as it really is a matter of personal taste.As a dressing I found it too spicey but as a spread on sandwiches it was too mild, not rich enough.I tried it mixed with mayonaise to make it a bit richer and thicken the consistancey on salad which worked as a bold mayo.Best on beef, burgers & sausage on hot wraps/sandwiches but not on cold.Not something I'd buy again but that's just my taste speaking, it's a quality product and some will like a great deal.I'm just not \n",
              "<mark class=\"entity\" style=\"background: #e4e7d2; padding: 0.45em 0.6em; margin: 0 0.25em; line-height: 1; border-radius: 0.35em; box-decoration-break: clone; -webkit-box-decoration-break: clone\">\n",
              "    one\n",
              "    <span style=\"font-size: 0.8em; font-weight: bold; line-height: 1; border-radius: 0.35em; text-transform: uppercase; vertical-align: middle; margin-left: 0.5rem\">CARDINAL</span>\n",
              "</mark>\n",
              " of them!</div>"
            ],
            "text/plain": [
              "<IPython.core.display.HTML object>"
            ]
          },
          "metadata": {
            "tags": []
          }
        }
      ]
    },
    {
      "metadata": {
        "id": "PBw8GglLp9AI",
        "colab_type": "code",
        "outputId": "00b054ae-f4f8-4019-f4c1-525e20002ece",
        "colab": {
          "base_uri": "https://localhost:8080/",
          "height": 340
        }
      },
      "cell_type": "code",
      "source": [
        "rand_idx = np.random.choice(df.index, 100)\n",
        "entities_100_sentences = nlp(' '.join(df.iloc[rand_idx]['Text']))\n",
        "labels = [x.label_ for x in entities_100_sentences.ents]\n",
        "\n",
        "print(\"Named Entities\")\n",
        "pprint(Counter(labels))"
      ],
      "execution_count": 36,
      "outputs": [
        {
          "output_type": "stream",
          "text": [
            "Named Entities\n",
            "Counter({'CARDINAL': 79,\n",
            "         'ORG': 70,\n",
            "         'PERSON': 34,\n",
            "         'DATE': 29,\n",
            "         'ORDINAL': 18,\n",
            "         'QUANTITY': 16,\n",
            "         'NORP': 14,\n",
            "         'TIME': 11,\n",
            "         'MONEY': 11,\n",
            "         'PRODUCT': 10,\n",
            "         'GPE': 10,\n",
            "         'FAC': 8,\n",
            "         'WORK_OF_ART': 7,\n",
            "         'EVENT': 2,\n",
            "         'PERCENT': 1,\n",
            "         'LAW': 1,\n",
            "         'LOC': 1,\n",
            "         'LANGUAGE': 1})\n"
          ],
          "name": "stdout"
        }
      ]
    },
    {
      "metadata": {
        "id": "fUS1y3bKgIaS",
        "colab_type": "code",
        "outputId": "cc4eea92-00bf-4985-eec0-634eda1f2c99",
        "colab": {
          "base_uri": "https://localhost:8080/",
          "height": 51
        }
      },
      "cell_type": "code",
      "source": [
        "%%time\n",
        "\n",
        "def remove_ner(sent):\n",
        "  doc = nlp(sent)\n",
        "  ner_idx = [(ent.start_char, ent.end_char) for ent in doc.ents]\n",
        "\n",
        "  if ner_idx: # if not empty\n",
        "    ner_removed = \"\"\n",
        "    ner_len = len(ner_idx)-1\n",
        "    \n",
        "    ner_removed += sent[:ner_idx[0][0]]\n",
        "    for i in range(ner_len):\n",
        "      ner_removed += sent[ner_idx[i][1]+1 : ner_idx[i+1][0]]\n",
        "    ner_removed += sent[ner_idx[ner_len][1]+1:]\n",
        "    \n",
        "    return ner_removed\n",
        "    \n",
        "  else:\n",
        "    return sent\n",
        "  \n",
        "df['Text'] = df['Text'].apply(lambda x: remove_ner(x))"
      ],
      "execution_count": 37,
      "outputs": [
        {
          "output_type": "stream",
          "text": [
            "CPU times: user 1h 44min 24s, sys: 38min 55s, total: 2h 23min 19s\n",
            "Wall time: 1h 12min 59s\n"
          ],
          "name": "stdout"
        }
      ]
    },
    {
      "metadata": {
        "id": "jHFqzl-AsQ04",
        "colab_type": "text"
      },
      "cell_type": "markdown",
      "source": [
        "The following code is to save the result we have made so far. Removing named entities is such a time consuming process we don't want to repeat too many times. Again, we can simply upload the file to Google Drive so we can download quickly."
      ]
    },
    {
      "metadata": {
        "id": "msDYEOFzunsg",
        "colab_type": "code",
        "colab": {}
      },
      "cell_type": "code",
      "source": [
        "# Save the cleaned file\n",
        "df.to_csv('/content/amazon_food_review_processed.csv', header=True, index=False)\n",
        "\n",
        "# Upload to Google Drive\n",
        "uploaded = drive.CreateFile({'title': 'amazon_food_review_processed.csv'})\n",
        "uploaded.SetContentFile('/content/amazon_food_review_processed.csv')\n",
        "uploaded.Upload()\n",
        "\n",
        "# Download the cleaned file\n",
        "# file_id = '1M6fOcmUYya7RLza0QxN4UB0MZb1BtK-y'\n",
        "# downloaded = drive.CreateFile({'id': file_id})\n",
        "# downloaded.GetContentFile('amazon_food_review_processed.csv')\n",
        "\n",
        "# df = pd.read_csv('amazon_food_review_processed.csv')"
      ],
      "execution_count": 0,
      "outputs": []
    },
    {
      "metadata": {
        "id": "Gdf4XJ5_BiEG",
        "colab_type": "text"
      },
      "cell_type": "markdown",
      "source": [
        "## 7. Baseline Model\n",
        "Before building a deep learning model, we would like to have a baseline model. Logistic Regression is always a good choice for the start. The process won't be too different than we are already thinking about for a deep learning model. First, we need to split reviews into two groups; training set and testing set. Then, we should vectorize the bag of words so the machine can read them. That means there will be as many features as all the different words set throughout the reviews. However, most of the features will be zeros (sparse vectors) because each reivew is relatively so short compared with all words in the word index."
      ]
    },
    {
      "metadata": {
        "id": "g2KPoPxaOTRC",
        "colab_type": "code",
        "colab": {}
      },
      "cell_type": "code",
      "source": [
        "from sklearn.model_selection import train_test_split\n",
        "from sklearn.pipeline import Pipeline\n",
        "from sklearn.feature_extraction.text import TfidfVectorizer\n",
        "from sklearn.linear_model import LogisticRegression\n",
        "from sklearn import metrics\n",
        "\n",
        "X = df['Text']\n",
        "y = df['Score']\n",
        "\n",
        "sentence_train, sentence_test, y_train, y_test = train_test_split(\n",
        "    X, y, test_size=.2\n",
        ")"
      ],
      "execution_count": 0,
      "outputs": []
    },
    {
      "metadata": {
        "colab_type": "code",
        "outputId": "ad22630c-b5f9-4d56-fb92-73ec0f63c933",
        "id": "QPOpk9d9GrK7",
        "colab": {
          "base_uri": "https://localhost:8080/",
          "height": 68
        }
      },
      "cell_type": "code",
      "source": [
        "%%time \n",
        "\n",
        "vectorizer = TfidfVectorizer().fit(sentence_train)\n",
        "\n",
        "X_train_lr = vectorizer.transform(sentence_train)\n",
        "X_test_lr = vectorizer.transform(sentence_test)\n",
        "\n",
        "print(\"Vectorized Words:\", X_train_lr.shape[1])"
      ],
      "execution_count": 42,
      "outputs": [
        {
          "output_type": "stream",
          "text": [
            "Vectorized Words: 40697\n",
            "CPU times: user 11.1 s, sys: 72.5 ms, total: 11.2 s\n",
            "Wall time: 11.2 s\n"
          ],
          "name": "stdout"
        }
      ]
    },
    {
      "metadata": {
        "id": "-oVnKvF1cYGY",
        "colab_type": "code",
        "outputId": "a19430cb-5d8d-4548-e6a9-ae48e9a40558",
        "colab": {
          "base_uri": "https://localhost:8080/",
          "height": 442
        }
      },
      "cell_type": "code",
      "source": [
        "%%time\n",
        "\n",
        "tfidf_clf = LogisticRegression().fit(X_train_lr, y_train)\n",
        "pred = tfidf_clf.predict(X_test_lr)\n",
        "\n",
        "print(\"Confusion Matrix\")\n",
        "print(metrics.confusion_matrix(y_test, pred))\n",
        "print('\\n')\n",
        "print(metrics.classification_report(y_test, pred))\n",
        "print(\"Accuracy:\", round(metrics.accuracy_score(y_test, pred), 2))\n",
        "print('\\n')"
      ],
      "execution_count": 43,
      "outputs": [
        {
          "output_type": "stream",
          "text": [
            "Confusion Matrix\n",
            "[[2860  616  244   90  146]\n",
            " [ 948 1888  780  262  187]\n",
            " [ 416  641 2000  696  293]\n",
            " [ 187  239  648 1831 1052]\n",
            " [ 140  109  167  657 2897]]\n",
            "\n",
            "\n",
            "              precision    recall  f1-score   support\n",
            "\n",
            "           1       0.63      0.72      0.67      3956\n",
            "           2       0.54      0.46      0.50      4065\n",
            "           3       0.52      0.49      0.51      4046\n",
            "           4       0.52      0.46      0.49      3957\n",
            "           5       0.63      0.73      0.68      3970\n",
            "\n",
            "   micro avg       0.57      0.57      0.57     19994\n",
            "   macro avg       0.57      0.57      0.57     19994\n",
            "weighted avg       0.57      0.57      0.57     19994\n",
            "\n",
            "Accuracy: 0.57\n",
            "\n",
            "\n",
            "CPU times: user 31.5 s, sys: 32.6 ms, total: 31.5 s\n",
            "Wall time: 31.6 s\n"
          ],
          "name": "stdout"
        }
      ]
    },
    {
      "metadata": {
        "id": "5Bi4-635tzBb",
        "colab_type": "text"
      },
      "cell_type": "markdown",
      "source": [
        "The performance isn't quite impressive. An interesting point is that the model is relatively good at recognizing score 1 and score 5. This shouldn't be surprising with all the analyses we have done in which the two showed the strongest patterns."
      ]
    },
    {
      "metadata": {
        "id": "eUFTMFz4Z479",
        "colab_type": "text"
      },
      "cell_type": "markdown",
      "source": [
        "## 8. Deep Learning Model"
      ]
    },
    {
      "metadata": {
        "id": "6SZDGmSBOS-y",
        "colab_type": "code",
        "outputId": "d577074e-d052-4af5-fca2-02d82d380f81",
        "colab": {
          "base_uri": "https://localhost:8080/",
          "height": 34
        }
      },
      "cell_type": "code",
      "source": [
        "import keras\n",
        "from keras.wrappers.scikit_learn import KerasClassifier\n",
        "from keras.models import Model, Sequential\n",
        "from keras import layers\n",
        "from keras.utils import to_categorical\n",
        "from keras.preprocessing.text import Tokenizer\n",
        "from keras.preprocessing.sequence import pad_sequences\n",
        "from keras import optimizers\n",
        "from keras import regularizers"
      ],
      "execution_count": 44,
      "outputs": [
        {
          "output_type": "stream",
          "text": [
            "Using TensorFlow backend.\n"
          ],
          "name": "stderr"
        }
      ]
    },
    {
      "metadata": {
        "id": "eIvO0zore2Ia",
        "colab_type": "code",
        "outputId": "451ec29a-493c-4cc7-ff82-d34e640f581e",
        "colab": {
          "base_uri": "https://localhost:8080/",
          "height": 51
        }
      },
      "cell_type": "code",
      "source": [
        "%%time\n",
        "\n",
        "# vector size (=top 'n' vectorized tokens)\n",
        "vec_size = 2000\n",
        "\n",
        "# tokenizing words in training set\n",
        "tokenizer = Tokenizer(num_words=vec_size) # length of each sparse array\n",
        "tokenizer.fit_on_texts(sentence_train) # generate word index\n",
        "\n",
        "# tfidf representation (train data size X vector length)\n",
        "X_train_nn = tokenizer.texts_to_matrix(sentence_train, mode='tfidf')\n",
        "X_test_nn = tokenizer.texts_to_matrix(sentence_test, mode='tfidf')\n",
        "\n",
        "# [1,2,3,4,5] => [0,1,2,3,4]\n",
        "y_train_nn = to_categorical(y_train-1)\n",
        "y_test_nn = to_categorical(y_test-1)"
      ],
      "execution_count": 45,
      "outputs": [
        {
          "output_type": "stream",
          "text": [
            "CPU times: user 31.5 s, sys: 811 ms, total: 32.3 s\n",
            "Wall time: 32.4 s\n"
          ],
          "name": "stdout"
        }
      ]
    },
    {
      "metadata": {
        "id": "oHtr7SeHPmec",
        "colab_type": "code",
        "outputId": "fdf77779-2662-4374-8488-084696308f53",
        "colab": {
          "base_uri": "https://localhost:8080/",
          "height": 445
        }
      },
      "cell_type": "code",
      "source": [
        "vocab_size = len(tokenizer.word_index)+1\n",
        "embedding=50\n",
        "\n",
        "# sequential model\n",
        "model = Sequential()\n",
        "\n",
        "# input layer\n",
        "model.add(layers.Embedding(input_dim=vocab_size,\n",
        "                           output_dim=embedding,\n",
        "                           input_length=vec_size))\n",
        "# hidden layer\n",
        "model.add(layers.Flatten())\n",
        "model.add(layers.Dense(50, activation='sigmoid'))\n",
        "model.add(layers.Dense(50, activation='tanh'))\n",
        "model.add(layers.Dense(50, activation='relu'))\n",
        "# output layer\n",
        "model.add(layers.Dense(5, activation='softmax'))\n",
        "\n",
        "# compiling\n",
        "model.compile(loss='categorical_crossentropy',\n",
        "              optimizer='adam',\n",
        "              metrics=['accuracy'])\n",
        "\n",
        "# fit the model and save logs\n",
        "result = model.fit(X_train_nn, y_train_nn,\n",
        "                   epochs=10,\n",
        "                   verbose=1,\n",
        "                   validation_data=(X_test_nn, y_test_nn),\n",
        "                   batch_size=128)"
      ],
      "execution_count": 47,
      "outputs": [
        {
          "output_type": "stream",
          "text": [
            "WARNING:tensorflow:From /usr/local/lib/python3.6/dist-packages/tensorflow/python/ops/math_ops.py:3066: to_int32 (from tensorflow.python.ops.math_ops) is deprecated and will be removed in a future version.\n",
            "Instructions for updating:\n",
            "Use tf.cast instead.\n",
            "Train on 79976 samples, validate on 19994 samples\n",
            "Epoch 1/10\n",
            "79976/79976 [==============================] - 24s 305us/step - loss: 1.2008 - acc: 0.4788 - val_loss: 1.0889 - val_acc: 0.5447\n",
            "Epoch 2/10\n",
            "79976/79976 [==============================] - 21s 265us/step - loss: 1.0018 - acc: 0.5896 - val_loss: 1.0588 - val_acc: 0.5645\n",
            "Epoch 3/10\n",
            "79976/79976 [==============================] - 21s 258us/step - loss: 0.8783 - acc: 0.6502 - val_loss: 1.0666 - val_acc: 0.5794\n",
            "Epoch 4/10\n",
            "79976/79976 [==============================] - 21s 262us/step - loss: 0.7309 - acc: 0.7178 - val_loss: 1.0885 - val_acc: 0.5944\n",
            "Epoch 5/10\n",
            "79976/79976 [==============================] - 22s 273us/step - loss: 0.5815 - acc: 0.7822 - val_loss: 1.1733 - val_acc: 0.5918\n",
            "Epoch 6/10\n",
            "79976/79976 [==============================] - 21s 268us/step - loss: 0.4554 - acc: 0.8338 - val_loss: 1.3577 - val_acc: 0.5958\n",
            "Epoch 7/10\n",
            "79976/79976 [==============================] - 22s 270us/step - loss: 0.3507 - acc: 0.8772 - val_loss: 1.4933 - val_acc: 0.5952\n",
            "Epoch 8/10\n",
            "79976/79976 [==============================] - 21s 264us/step - loss: 0.2731 - acc: 0.9061 - val_loss: 1.7121 - val_acc: 0.5971\n",
            "Epoch 9/10\n",
            "79976/79976 [==============================] - 21s 268us/step - loss: 0.2234 - acc: 0.9241 - val_loss: 1.8756 - val_acc: 0.5904\n",
            "Epoch 10/10\n",
            "79976/79976 [==============================] - 20s 256us/step - loss: 0.1831 - acc: 0.9390 - val_loss: 2.0455 - val_acc: 0.5896\n"
          ],
          "name": "stdout"
        }
      ]
    },
    {
      "metadata": {
        "id": "4MMkX2DQaWih",
        "colab_type": "code",
        "outputId": "bd865d9c-7dbf-47c6-cb0d-28513a139704",
        "colab": {
          "base_uri": "https://localhost:8080/",
          "height": 357
        }
      },
      "cell_type": "code",
      "source": [
        "def plot_history(result):\n",
        "  acc = result.history['acc']\n",
        "  val_acc = result.history['val_acc']\n",
        "  loss = result.history['loss']\n",
        "  val_loss = result.history['val_loss']\n",
        "  x = range(1, len(acc) + 1)\n",
        "  plt.figure(figsize=(12, 5))\n",
        "  # accuracy\n",
        "  plt.subplot(1,2,1)\n",
        "  plt.plot(x, acc, 'b', label='Training')\n",
        "  plt.plot(x, val_acc, 'g', label='Validation')\n",
        "  plt.title(\"Training and Validation Accuracy\")\n",
        "  plt.xlabel(\"Epoch\")\n",
        "  plt.ylabel(\"Accuracy\")\n",
        "  plt.legend()\n",
        "  # loss\n",
        "  plt.subplot(1,2,2)\n",
        "  plt.plot(x, loss, 'b', label='Training')\n",
        "  plt.plot(x, val_loss, 'g', label='Validation')\n",
        "  plt.title(\"Training and Validation Loss\")\n",
        "  plt.xlabel(\"Epoch\")\n",
        "  plt.ylabel(\"Cross Entropy\")\n",
        "  plt.legend()\n",
        "  \n",
        "  plt.tight_layout()\n",
        "    \n",
        "plot_history(result)"
      ],
      "execution_count": 49,
      "outputs": [
        {
          "output_type": "display_data",
          "data": {
            "image/png": "[encoded data removed]",
            "text/plain": [
              "<Figure size 864x360 with 2 Axes>"
            ]
          },
          "metadata": {
            "tags": []
          }
        }
      ]
    },
    {
      "metadata": {
        "id": "HDjEVUTZaCF4",
        "colab_type": "text"
      },
      "cell_type": "markdown",
      "source": [
        "## 9. Model Tuning and Evaluation\n",
        "First, we need to speculate about the layers and nodes in each layer. This is actually heuristic in that there is no clear answer. One thing that can help us guess is VC dimension in which we can theoretically divide all the observations. We have over a hundred thousand of cases and 1,000 features (top words). Three layers with 100 nodes should be enough to describe different cases because these cases tend to be grouped together in practice. In fact, the model found the functions to classify the training set with well over 90% accuracy. In conclusion, we will continue with this architecture to reduce complexity.\n",
        "\n",
        "Now, our goal is to find the best values for parameters. It seems to be fair that 30 times of epoch is enough. Also, batch size 128 is ideal for using the GPU. Those two can be confirmed on the plot where the loss converges to zero in the smooth line. The biggest problem is overfitting. As seen on the plot, the validation accuracy does not improve as much as the training accuracy. Therefore, the first tuning should be regularization. We may apply two major techniques to solving the issue.\n",
        "\n",
        "- Regularization term as a parameter in layers\n",
        "- Dropout layer to turn off some nodes\n",
        "\n",
        "Along with these added to the model, we will experiment other features such as optimizer and activation functions. This will be done in the grid search manner harnessed with *sklearn* library. To do so, we need to make the model in a function to which we can iterate different values."
      ]
    },
    {
      "metadata": {
        "id": "Gef9buiEzmTq",
        "colab_type": "code",
        "colab": {}
      },
      "cell_type": "code",
      "source": [
        "from sklearn.model_selection import GridSearchCV\n",
        "\n",
        "def create_model(input_dim=vocab_size, embedding=50, input_length=vec_size,\n",
        "                 optimizer='adam', dropout_rate=0.5):\n",
        "  # sequential model\n",
        "  model = Sequential()\n",
        "  \n",
        "  # input layer\n",
        "  model.add(layers.Embedding(input_dim=input_dim,\n",
        "                             output_dim=embedding,\n",
        "                             input_length=input_length))\n",
        "  # hidden layer\n",
        "  model.add(layers.Flatten())\n",
        "  model.add(layers.Dense(50, activation='sigmoid',\n",
        "                         kernel_regularizer=regularizers.l2(0.0001)))\n",
        "  model.add(layers.Dropout(dropout_rate))\n",
        "  model.add(layers.Dense(50, activation='tanh'))\n",
        "  model.add(layers.Dropout(dropout_rate))\n",
        "  model.add(layers.Dense(50, activation='relu'))\n",
        "  # output layer\n",
        "  model.add(layers.Dense(5, activation='softmax'))\n",
        "\n",
        "  # compiling\n",
        "  model.compile(loss='categorical_crossentropy',\n",
        "                optimizer=optimizer,\n",
        "                metrics=['accuracy'])\n",
        " \n",
        "  return model"
      ],
      "execution_count": 0,
      "outputs": []
    },
    {
      "metadata": {
        "id": "nIh8SitFzmPP",
        "colab_type": "code",
        "outputId": "9a434012-cdf7-4f85-946b-999c35a1e5d6",
        "colab": {
          "base_uri": "https://localhost:8080/",
          "height": 136
        }
      },
      "cell_type": "code",
      "source": [
        "model = KerasClassifier(build_fn=create_model,\n",
        "                        epochs=5, batch_size=128, verbose=0)\n",
        "optimizer = ['Adam', 'Adagrad', 'SGD']\n",
        "dropout_rate = [0.2, 0.5]\n",
        "\n",
        "param_grid = dict(optimizer=optimizer, dropout_rate=dropout_rate)\n",
        "grid = GridSearchCV(estimator=model, param_grid=param_grid, cv=2)\n",
        "grid_result = grid.fit(X_train_nn, y_train_nn)\n",
        "\n",
        "means = grid_result.cv_results_['mean_test_score']\n",
        "stds = grid_result.cv_results_['std_test_score']\n",
        "params = grid_result.cv_results_['params']\n",
        "\n",
        "print(\"Best: %f using %s\" % (grid_result.best_score_, grid_result.best_params_))\n",
        "for mean, stdev, param in zip(means, stds, params):\n",
        "  print(\"%f (%f) with: %r\" % (mean, stdev, param))"
      ],
      "execution_count": 57,
      "outputs": [
        {
          "output_type": "stream",
          "text": [
            "Best: 0.552978 using {'dropout_rate': 0.2, 'optimizer': 'Adam'}\n",
            "0.552978 (0.001638) with: {'dropout_rate': 0.2, 'optimizer': 'Adam'}\n",
            "0.546814 (0.001876) with: {'dropout_rate': 0.2, 'optimizer': 'Adagrad'}\n",
            "0.196659 (0.001075) with: {'dropout_rate': 0.2, 'optimizer': 'SGD'}\n",
            "0.534310 (0.002451) with: {'dropout_rate': 0.5, 'optimizer': 'Adam'}\n",
            "0.533785 (0.000250) with: {'dropout_rate': 0.5, 'optimizer': 'Adagrad'}\n",
            "0.197559 (0.001976) with: {'dropout_rate': 0.5, 'optimizer': 'SGD'}\n"
          ],
          "name": "stdout"
        }
      ]
    },
    {
      "metadata": {
        "id": "3gsguKUMHUCW",
        "colab_type": "code",
        "colab": {
          "base_uri": "https://localhost:8080/",
          "height": 714
        },
        "outputId": "b152d36d-203e-440a-c0e1-569655016eb9"
      },
      "cell_type": "code",
      "source": [
        "model = create_model(optimizer='adam', dropout_rate=0.2)\n",
        "result = model.fit(X_train_nn, y_train_nn,\n",
        "                   epochs=20,\n",
        "                   verbose=1,\n",
        "                   validation_data=(X_test_nn, y_test_nn),\n",
        "                   batch_size=128)"
      ],
      "execution_count": 60,
      "outputs": [
        {
          "output_type": "stream",
          "text": [
            "Train on 79976 samples, validate on 19994 samples\n",
            "Epoch 1/20\n",
            "79976/79976 [==============================] - 30s 372us/step - loss: 1.3513 - acc: 0.4436 - val_loss: 1.2416 - val_acc: 0.5268\n",
            "Epoch 2/20\n",
            "79976/79976 [==============================] - 27s 336us/step - loss: 1.2391 - acc: 0.5348 - val_loss: 1.2262 - val_acc: 0.5466\n",
            "Epoch 3/20\n",
            "79976/79976 [==============================] - 27s 339us/step - loss: 1.2178 - acc: 0.5546 - val_loss: 1.2240 - val_acc: 0.5607\n",
            "Epoch 4/20\n",
            "79976/79976 [==============================] - 27s 339us/step - loss: 1.2007 - acc: 0.5745 - val_loss: 1.2380 - val_acc: 0.5651\n",
            "Epoch 5/20\n",
            "79976/79976 [==============================] - 27s 339us/step - loss: 1.1788 - acc: 0.5941 - val_loss: 1.2483 - val_acc: 0.5713\n",
            "Epoch 6/20\n",
            "79976/79976 [==============================] - 27s 338us/step - loss: 1.1532 - acc: 0.6130 - val_loss: 1.2561 - val_acc: 0.5772\n",
            "Epoch 7/20\n",
            "79976/79976 [==============================] - 27s 338us/step - loss: 1.1315 - acc: 0.6292 - val_loss: 1.2679 - val_acc: 0.5813\n",
            "Epoch 8/20\n",
            "79976/79976 [==============================] - 27s 339us/step - loss: 1.1070 - acc: 0.6453 - val_loss: 1.2811 - val_acc: 0.5864\n",
            "Epoch 9/20\n",
            "79976/79976 [==============================] - 27s 338us/step - loss: 1.0817 - acc: 0.6622 - val_loss: 1.3004 - val_acc: 0.5867\n",
            "Epoch 10/20\n",
            "79976/79976 [==============================] - 27s 338us/step - loss: 1.0591 - acc: 0.6764 - val_loss: 1.3196 - val_acc: 0.5860\n",
            "Epoch 11/20\n",
            "79976/79976 [==============================] - 27s 340us/step - loss: 1.0347 - acc: 0.6906 - val_loss: 1.3460 - val_acc: 0.5893\n",
            "Epoch 12/20\n",
            "79976/79976 [==============================] - 27s 338us/step - loss: 1.0112 - acc: 0.7029 - val_loss: 1.3456 - val_acc: 0.5885\n",
            "Epoch 13/20\n",
            "79976/79976 [==============================] - 27s 339us/step - loss: 0.9904 - acc: 0.7118 - val_loss: 1.3512 - val_acc: 0.5919\n",
            "Epoch 14/20\n",
            "79976/79976 [==============================] - 27s 334us/step - loss: 0.9709 - acc: 0.7217 - val_loss: 1.3911 - val_acc: 0.5906\n",
            "Epoch 15/20\n",
            "79976/79976 [==============================] - 26s 329us/step - loss: 0.9444 - acc: 0.7327 - val_loss: 1.3865 - val_acc: 0.5958\n",
            "Epoch 16/20\n",
            "79976/79976 [==============================] - 26s 329us/step - loss: 0.9260 - acc: 0.7407 - val_loss: 1.4072 - val_acc: 0.5928\n",
            "Epoch 17/20\n",
            "79976/79976 [==============================] - 26s 329us/step - loss: 0.9044 - acc: 0.7474 - val_loss: 1.4293 - val_acc: 0.5921\n",
            "Epoch 18/20\n",
            "79976/79976 [==============================] - 26s 329us/step - loss: 0.8859 - acc: 0.7569 - val_loss: 1.4427 - val_acc: 0.5970\n",
            "Epoch 19/20\n",
            "79976/79976 [==============================] - 27s 332us/step - loss: 0.8650 - acc: 0.7642 - val_loss: 1.4489 - val_acc: 0.5964\n",
            "Epoch 20/20\n",
            "79976/79976 [==============================] - 27s 336us/step - loss: 0.8503 - acc: 0.7706 - val_loss: 1.4771 - val_acc: 0.5979\n"
          ],
          "name": "stdout"
        }
      ]
    },
    {
      "metadata": {
        "id": "o3TgsA6U-qvN",
        "colab_type": "code",
        "outputId": "0887bbc8-7a09-4bc3-f8aa-e14b6a95cfb2",
        "colab": {
          "base_uri": "https://localhost:8080/",
          "height": 357
        }
      },
      "cell_type": "code",
      "source": [
        "plot_history(result)"
      ],
      "execution_count": 61,
      "outputs": [
        {
          "output_type": "display_data",
          "data": {
            "image/png": "[encoded data removed]",
            "text/plain": [
              "<Figure size 864x360 with 2 Axes>"
            ]
          },
          "metadata": {
            "tags": []
          }
        }
      ]
    },
    {
      "metadata": {
        "id": "WyKP8jeVGHGY",
        "colab_type": "text"
      },
      "cell_type": "markdown",
      "source": [
        "## 10. Multiple Input MLP Model\n",
        "Keras can handle multiple inputs via its functional API which looks a bit different in syntax, but what it does is virtually the same as the sequential API. For the additional input, we will make use of the sentiment analysis. Extracting the sentiments is the same as we did for the sample review, but over all review. Unlike *spacy* did for named entities, this process is much shorter to be done with *Vader*. We will then use the compound scores among others like 'negative' and 'positive' scores because it already has positive and negative information."
      ]
    },
    {
      "metadata": {
        "id": "k7KOy-am0D_3",
        "colab_type": "code",
        "colab": {}
      },
      "cell_type": "code",
      "source": [
        "X = df[['Text', 'Summary']]\n",
        "y = df['Score']\n",
        "\n",
        "X_train, X_test, y_train, y_test = train_test_split(\n",
        "    X, y, test_size=.2\n",
        ")\n",
        "\n",
        "sentence_train = X_train['Text']\n",
        "sentence_test = X_test['Text']\n",
        "\n",
        "summary_train = X_train['Summary']\n",
        "summary_test = X_test['Summary']"
      ],
      "execution_count": 0,
      "outputs": []
    },
    {
      "metadata": {
        "id": "QlbDgYHLGMdJ",
        "colab_type": "code",
        "outputId": "01b25df6-9e28-4aed-dcdf-1680fb87c5ec",
        "colab": {
          "base_uri": "https://localhost:8080/",
          "height": 51
        }
      },
      "cell_type": "code",
      "source": [
        "%%time\n",
        "\n",
        "# vector size (=top 'n' vectorized tokens)\n",
        "vec_size = 2000\n",
        "\n",
        "# tokenizing words in training set\n",
        "tokenizer = Tokenizer(num_words=vec_size) # length of each sparse array\n",
        "tokenizer.fit_on_texts(sentence_train) # generate word index\n",
        "\n",
        "# tfidf representation (train data size X vector length)\n",
        "sentence_train = tokenizer.texts_to_matrix(sentence_train, mode='tfidf')\n",
        "sentence_test = tokenizer.texts_to_matrix(sentence_test, mode='tfidf')\n",
        "\n",
        "summary_train = tokenizer.texts_to_matrix(summary_train, mode='tfidf')\n",
        "summary_test = tokenizer.texts_to_matrix(summary_test, mode='tfidf')\n",
        "\n",
        "# [1,2,3,4,5] => [0,1,2,3,4]\n",
        "y_train_nn = to_categorical(y_train-1)\n",
        "y_test_nn = to_categorical(y_test-1)"
      ],
      "execution_count": 63,
      "outputs": [
        {
          "output_type": "stream",
          "text": [
            "CPU times: user 35 s, sys: 451 ms, total: 35.5 s\n",
            "Wall time: 35.6 s\n"
          ],
          "name": "stdout"
        }
      ]
    },
    {
      "metadata": {
        "id": "3ZJLxuAF-3Q6",
        "colab_type": "text"
      },
      "cell_type": "markdown",
      "source": [
        "For the model architecture, we may just go by hueristic methods with some senses gained from the grid search we have done before. Also, we can do this process with trial and error as does a deep learning model often. This time, we set the epoch 200 times because it seems to continue improving. Also, we have shallow and narrow layers for the numerical feature since sentiment scores are much simpler than vectorized text data."
      ]
    },
    {
      "metadata": {
        "id": "H02429CJ02l3",
        "colab_type": "code",
        "colab": {
          "base_uri": "https://localhost:8080/",
          "height": 714
        },
        "outputId": "6f820fd3-f5c3-4c95-f523-13cf2031f7ae"
      },
      "cell_type": "code",
      "source": [
        "vocab_size = len(tokenizer.word_index)+1\n",
        "embedding = 50\n",
        "\n",
        "input_nlp = layers.Input(shape=(vec_size,))\n",
        "input_num = layers.Input(shape=(vec_size,))\n",
        "\n",
        "x = layers.Embedding(input_dim=vocab_size,\n",
        "                     output_dim=embedding,\n",
        "                     input_length=vec_size)(input_nlp)\n",
        "x = layers.Flatten()(x)\n",
        "x = layers.Dense(50, activation='relu')(input_nlp)\n",
        "x = layers.Dropout(0.2)(x)\n",
        "x = layers.Dense(50, activation='tanh')(x)\n",
        "x = layers.Dropout(0.2)(x)\n",
        "x = layers.Dense(50, activation='relu')(x)\n",
        "x = keras.Model(inputs=input_nlp, output=x)\n",
        "\n",
        "y = layers.Embedding(input_dim=vocab_size,\n",
        "                     output_dim=embedding,\n",
        "                     input_length=vec_size)(input_num)\n",
        "y = layers.Flatten()(y)\n",
        "y = layers.Dense(50, activation='relu')(input_num)\n",
        "y = layers.Dropout(0.2)(y)\n",
        "y = layers.Dense(50, activation='tanh')(y)\n",
        "y = layers.Dropout(0.2)(y)\n",
        "y = layers.Dense(50, activation='relu')(y)\n",
        "y = keras.Model(inputs=input_num, output=y)\n",
        "\n",
        "combined = layers.concatenate([x.output, y.output])\n",
        "\n",
        "z = layers.Dense(2, activation='linear')(combined)\n",
        "z = layers.Dense(5, activation='softmax')(z)\n",
        "\n",
        "model = keras.Model(inputs=[x.input, y.input], output=z)\n",
        "\n",
        "model.compile(loss='categorical_crossentropy',\n",
        "              metrics=['accuracy'],\n",
        "              optimizer=optimizers.SGD(lr=0.01, decay=0.01/30, momentum=0.9))\n",
        "\n",
        "result = model.fit([sentence_train, summary_train], y_train_nn,\n",
        "                   validation_data=([sentence_test, summary_test], y_test_nn),\n",
        "                   epochs=20, batch_size=128)"
      ],
      "execution_count": 80,
      "outputs": [
        {
          "output_type": "stream",
          "text": [
            "Train on 79976 samples, validate on 19994 samples\n",
            "Epoch 1/20\n",
            "79976/79976 [==============================] - 13s 162us/step - loss: 1.3054 - acc: 0.4102 - val_loss: 1.0456 - val_acc: 0.5450\n",
            "Epoch 2/20\n",
            "79976/79976 [==============================] - 8s 100us/step - loss: 1.0201 - acc: 0.5542 - val_loss: 0.9647 - val_acc: 0.5883\n",
            "Epoch 3/20\n",
            "79976/79976 [==============================] - 8s 103us/step - loss: 0.9372 - acc: 0.5986 - val_loss: 0.9403 - val_acc: 0.6050\n",
            "Epoch 4/20\n",
            "79976/79976 [==============================] - 8s 105us/step - loss: 0.8803 - acc: 0.6265 - val_loss: 0.9275 - val_acc: 0.6158\n",
            "Epoch 5/20\n",
            "79976/79976 [==============================] - 9s 107us/step - loss: 0.8327 - acc: 0.6505 - val_loss: 0.9218 - val_acc: 0.6225\n",
            "Epoch 6/20\n",
            "79976/79976 [==============================] - 7s 94us/step - loss: 0.7965 - acc: 0.6684 - val_loss: 0.9241 - val_acc: 0.6290\n",
            "Epoch 7/20\n",
            "79976/79976 [==============================] - 7s 91us/step - loss: 0.7601 - acc: 0.6857 - val_loss: 0.9319 - val_acc: 0.6298\n",
            "Epoch 8/20\n",
            "79976/79976 [==============================] - 8s 99us/step - loss: 0.7294 - acc: 0.6985 - val_loss: 0.9423 - val_acc: 0.6305\n",
            "Epoch 9/20\n",
            "79976/79976 [==============================] - 8s 104us/step - loss: 0.6937 - acc: 0.7163 - val_loss: 0.9494 - val_acc: 0.6372\n",
            "Epoch 10/20\n",
            "79976/79976 [==============================] - 8s 100us/step - loss: 0.6681 - acc: 0.7303 - val_loss: 0.9647 - val_acc: 0.6369\n",
            "Epoch 11/20\n",
            "79976/79976 [==============================] - 9s 108us/step - loss: 0.6413 - acc: 0.7397 - val_loss: 0.9869 - val_acc: 0.6408\n",
            "Epoch 12/20\n",
            "79976/79976 [==============================] - 9s 108us/step - loss: 0.6133 - acc: 0.7514 - val_loss: 1.0043 - val_acc: 0.6388\n",
            "Epoch 13/20\n",
            "79976/79976 [==============================] - 8s 96us/step - loss: 0.5927 - acc: 0.7606 - val_loss: 1.0239 - val_acc: 0.6401\n",
            "Epoch 14/20\n",
            "79976/79976 [==============================] - 8s 97us/step - loss: 0.5703 - acc: 0.7728 - val_loss: 1.0373 - val_acc: 0.6426\n",
            "Epoch 15/20\n",
            "79976/79976 [==============================] - 7s 92us/step - loss: 0.5514 - acc: 0.7792 - val_loss: 1.0608 - val_acc: 0.6429\n",
            "Epoch 16/20\n",
            "79976/79976 [==============================] - 8s 96us/step - loss: 0.5367 - acc: 0.7863 - val_loss: 1.0771 - val_acc: 0.6444\n",
            "Epoch 17/20\n",
            "79976/79976 [==============================] - 8s 99us/step - loss: 0.5213 - acc: 0.7926 - val_loss: 1.0893 - val_acc: 0.6463\n",
            "Epoch 18/20\n",
            "79976/79976 [==============================] - 8s 99us/step - loss: 0.5027 - acc: 0.8010 - val_loss: 1.1254 - val_acc: 0.6431\n",
            "Epoch 19/20\n",
            "79976/79976 [==============================] - 8s 100us/step - loss: 0.4883 - acc: 0.8070 - val_loss: 1.1451 - val_acc: 0.6450\n",
            "Epoch 20/20\n",
            "79976/79976 [==============================] - 9s 117us/step - loss: 0.4755 - acc: 0.8130 - val_loss: 1.1588 - val_acc: 0.6458\n"
          ],
          "name": "stdout"
        }
      ]
    },
    {
      "metadata": {
        "id": "H5qApaAzccy2",
        "colab_type": "code",
        "outputId": "a6fa332a-54fd-4fa3-83f7-4608b2d16deb",
        "colab": {
          "base_uri": "https://localhost:8080/",
          "height": 357
        }
      },
      "cell_type": "code",
      "source": [
        "plot_history(result)"
      ],
      "execution_count": 81,
      "outputs": [
        {
          "output_type": "display_data",
          "data": {
            "image/png": "[encoded data removed]",
            "text/plain": [
              "<Figure size 864x360 with 2 Axes>"
            ]
          },
          "metadata": {
            "tags": []
          }
        }
      ]
    },
    {
      "metadata": {
        "id": "Xb55o0zYV3N1",
        "colab_type": "code",
        "colab": {
          "base_uri": "https://localhost:8080/",
          "height": 34
        },
        "outputId": "6ce11e2d-fdc4-41ad-b8f9-1a1e557a7042"
      },
      "cell_type": "code",
      "source": [
        "np.argmax(pred, axis=1)"
      ],
      "execution_count": 90,
      "outputs": [
        {
          "output_type": "execute_result",
          "data": {
            "text/plain": [
              "array([0, 3, 3, ..., 2, 2, 0])"
            ]
          },
          "metadata": {
            "tags": []
          },
          "execution_count": 90
        }
      ]
    },
    {
      "metadata": {
        "id": "yLcQQMlmVVAk",
        "colab_type": "code",
        "colab": {
          "base_uri": "https://localhost:8080/",
          "height": 408
        },
        "outputId": "4ee4709c-1e1c-41d4-ee5d-3c373dd48435"
      },
      "cell_type": "code",
      "source": [
        "# [prob1, ..., prob5] => [class]\n",
        "pred = model.predict([sentence_test, summary_test])\n",
        "# [0,1,2,3,4] => [1,2,3,4,5]\n",
        "pred = np.argmax(pred, axis=1) + 1\n",
        "\n",
        "print(\"Confusion Matrix\")\n",
        "print(metrics.confusion_matrix(y_test, pred))\n",
        "print('\\n')\n",
        "print(metrics.classification_report(y_test, pred))\n",
        "print(\"Accuracy:\", round(metrics.accuracy_score(y_test, pred), 2))\n",
        "print('\\n')"
      ],
      "execution_count": 92,
      "outputs": [
        {
          "output_type": "stream",
          "text": [
            "Confusion Matrix\n",
            "[[3024  708  190   67   78]\n",
            " [ 643 2417  665  148   63]\n",
            " [ 206  659 2397  540  145]\n",
            " [ 101  116  622 2212  948]\n",
            " [  91   56  184  851 2863]]\n",
            "\n",
            "\n",
            "              precision    recall  f1-score   support\n",
            "\n",
            "           1       0.74      0.74      0.74      4067\n",
            "           2       0.61      0.61      0.61      3936\n",
            "           3       0.59      0.61      0.60      3947\n",
            "           4       0.58      0.55      0.57      3999\n",
            "           5       0.70      0.71      0.70      4045\n",
            "\n",
            "   micro avg       0.65      0.65      0.65     19994\n",
            "   macro avg       0.64      0.65      0.64     19994\n",
            "weighted avg       0.65      0.65      0.65     19994\n",
            "\n",
            "Accuracy: 0.65\n",
            "\n",
            "\n"
          ],
          "name": "stdout"
        }
      ]
    },
    {
      "metadata": {
        "id": "pIfF6-BeCCr4",
        "colab_type": "text"
      },
      "cell_type": "markdown",
      "source": [
        "## 11. Conclusion and Reference"
      ]
    },
    {
      "metadata": {
        "id": "pYoO3PuasZFr",
        "colab_type": "text"
      },
      "cell_type": "markdown",
      "source": [
        "In this project, we explored review data in diverse respects. Statistical analysis found that reviews with lower scores used less adjectives and adverbs. Based on this, we could lead to the topic analysis where we confirmed that all the reviews are very straightforward and all related to foods. As we found it out earlier, the scores were so skewed that we applied an undersampling method to balance out the classes. We then converted text data into tfidf vectors in which machine can read in order to train a model. Modeling was done by three different manners; logistic regression, deep learning, multiple input deep learning. After realizing that a deep learning model is better than the baseline model, we advanced the deep learning model to the multiple input version. The additional feature was the sentiments scores in numeriacl type. \n",
        "\n",
        "**Dataset**\n",
        "- [Dataset from Kaggel](https://www.kaggle.com/snap/amazon-fine-food-reviews/version/2)\n",
        "\n",
        "<br>\n",
        "**Techniques**\n",
        "- [Word2Vec embedding tutorial](https://youtu.be/64qSgA66P-8)\n",
        "- [Regularization on layers](https://stackoverflow.com/questions/29653321/add-column-to-tfidf-matrix)\n",
        "\n",
        "<br>\n",
        "**Keras Syntax**\n",
        "- [Text preprocessing in Keras](https://machinelearningmastery.com/prepare-text-data-deep-learning-keras/)\n",
        "- [Keras text classification tutorial](https://realpython.com/python-keras-text-classification/)\n",
        "- [Keras and sklearn GridSearch](https://machinelearningmastery.com/grid-search-hyperparameters-deep-learning-models-python-keras/)\n",
        "- [Multiple input to Keras MLP](https://www.pyimagesearch.com/2019/02/04/keras-multiple-inputs-and-mixed-data/)\n",
        "\n",
        "<br>\n",
        "**Other Libraries**\n",
        "- [Imblearn undersampling](https://imbalanced-learn.readthedocs.io/en/stable/api.html#module-imblearn.under_sampling)\n",
        "- [Spacy NER](https://spacy.io/usage/processing-pipelines)"
      ]
    }
  ]
}